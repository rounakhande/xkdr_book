{
  "nbformat": 4,
  "nbformat_minor": 0,
  "metadata": {
    "colab": {
      "provenance": []
    },
    "kernelspec": {
      "name": "julia",
      "display_name": "Julia"
    },
    "language_info": {
      "name": "julia"
    }
  },
  "cells": [
    {
      "cell_type": "markdown",
      "source": [
        "# RUSSIA-UKRAINE NTL ANALYSIS (WORK IN PROGRESS)\n"
      ],
      "metadata": {
        "id": "tZb_-dtt1bgN"
      }
    },
    {
      "cell_type": "markdown",
      "source": [
        "#INITIALISATION"
      ],
      "metadata": {
        "id": "oANbXy6cMfMh"
      }
    },
    {
      "cell_type": "code",
      "source": [
        "using Pkg\n",
        "Pkg.add([\"GeoJSON\", \"NighttimeLights\", \"Rasters\", \"CSV\", \"Dates\", \"DataFrames\", \"GeoDataFrames\"])"
      ],
      "metadata": {
        "colab": {
          "base_uri": "https://localhost:8080/"
        },
        "id": "RKt6qxnCnyrM",
        "outputId": "9b332ce8-c361-4c28-dacd-2fcbea43546d"
      },
      "execution_count": null,
      "outputs": [
        {
          "output_type": "stream",
          "name": "stderr",
          "text": [
            "\u001b[32m\u001b[1m    Updating\u001b[22m\u001b[39m registry at `~/.julia/registries/General.toml`\n",
            "\u001b[32m\u001b[1m   Resolving\u001b[22m\u001b[39m package versions...\n",
            "\u001b[32m\u001b[1m   Installed\u001b[22m\u001b[39m LRUCache ────────────────── v1.6.2\n",
            "\u001b[32m\u001b[1m   Installed\u001b[22m\u001b[39m GDAL_jll ────────────────── v303.1100.300+0\n",
            "\u001b[32m\u001b[1m   Installed\u001b[22m\u001b[39m ImageIO ─────────────────── v0.6.8\n",
            "\u001b[32m\u001b[1m   Installed\u001b[22m\u001b[39m ImageSegmentation ───────── v1.8.1\n",
            "\u001b[32m\u001b[1m   Installed\u001b[22m\u001b[39m TiledIteration ──────────── v0.3.1\n",
            "\u001b[32m\u001b[1m   Installed\u001b[22m\u001b[39m Accessors ───────────────── v0.1.42\n",
            "\u001b[32m\u001b[1m   Installed\u001b[22m\u001b[39m TiffImages ──────────────── v0.10.2\n",
            "\u001b[32m\u001b[1m   Installed\u001b[22m\u001b[39m DimensionalData ─────────── v0.27.9\n",
            "\u001b[32m\u001b[1m   Installed\u001b[22m\u001b[39m ProgressMeter ───────────── v1.11.0\n",
            "\u001b[32m\u001b[1m   Installed\u001b[22m\u001b[39m GeoJSON ─────────────────── v0.8.3\n",
            "\u001b[32m\u001b[1m   Installed\u001b[22m\u001b[39m Qhull_jll ───────────────── v10008.0.1004+0\n",
            "\u001b[32m\u001b[1m   Installed\u001b[22m\u001b[39m ImageMagick ─────────────── v1.4.2\n",
            "\u001b[32m\u001b[1m   Installed\u001b[22m\u001b[39m NearestNeighbors ────────── v0.4.22\n",
            "\u001b[32m\u001b[1m   Installed\u001b[22m\u001b[39m Roots ───────────────────── v2.2.10\n",
            "\u001b[32m\u001b[1m   Installed\u001b[22m\u001b[39m RegionTrees ─────────────── v0.3.2\n",
            "\u001b[32m\u001b[1m   Installed\u001b[22m\u001b[39m DBFTables ───────────────── v1.2.7\n",
            "\u001b[32m\u001b[1m   Installed\u001b[22m\u001b[39m GLM ─────────────────────── v1.9.0\n",
            "\u001b[32m\u001b[1m   Installed\u001b[22m\u001b[39m GeoInterfaceMakie ───────── v0.1.9\n",
            "\u001b[32m\u001b[1m   Installed\u001b[22m\u001b[39m muparser_jll ────────────── v2.3.5+0\n",
            "\u001b[32m\u001b[1m   Installed\u001b[22m\u001b[39m Images ──────────────────── v0.25.3\n",
            "\u001b[32m\u001b[1m   Installed\u001b[22m\u001b[39m MetaGraphs ──────────────── v0.7.2\n",
            "\u001b[32m\u001b[1m   Installed\u001b[22m\u001b[39m snappy_jll ──────────────── v1.2.3+0\n",
            "\u001b[32m\u001b[1m   Installed\u001b[22m\u001b[39m JLD2 ────────────────────── v0.4.54\n",
            "\u001b[32m\u001b[1m   Installed\u001b[22m\u001b[39m RealDot ─────────────────── v0.1.0\n",
            "\u001b[32m\u001b[1m   Installed\u001b[22m\u001b[39m boost_jll ───────────────── v1.87.0+0\n",
            "\u001b[32m\u001b[1m   Installed\u001b[22m\u001b[39m Distances ───────────────── v0.10.12\n",
            "\u001b[32m\u001b[1m   Installed\u001b[22m\u001b[39m CFTime ──────────────────── v0.2.1\n",
            "\u001b[32m\u001b[1m   Installed\u001b[22m\u001b[39m GeoDataFrames ───────────── v0.3.13\n",
            "\u001b[32m\u001b[1m   Installed\u001b[22m\u001b[39m Hwloc_jll ───────────────── v2.12.1+0\n",
            "\u001b[32m\u001b[1m   Installed\u001b[22m\u001b[39m LuxCore ─────────────────── v1.4.0\n",
            "\u001b[32m\u001b[1m   Installed\u001b[22m\u001b[39m ArnoldiMethod ───────────── v0.4.0\n",
            "\u001b[32m\u001b[1m   Installed\u001b[22m\u001b[39m Rasters ─────────────────── v0.11.8\n",
            "\u001b[32m\u001b[1m   Installed\u001b[22m\u001b[39m HDF4_jll ────────────────── v4.3.2+0\n",
            "\u001b[32m\u001b[1m   Installed\u001b[22m\u001b[39m Clustering ──────────────── v0.15.8\n",
            "\u001b[32m\u001b[1m   Installed\u001b[22m\u001b[39m MicrosoftMPI_jll ────────── v10.1.4+3\n",
            "\u001b[32m\u001b[1m   Installed\u001b[22m\u001b[39m ColorSchemes ────────────── v3.26.0\n",
            "\u001b[32m\u001b[1m   Installed\u001b[22m\u001b[39m Thrift_jll ──────────────── v0.21.1+0\n",
            "\u001b[32m\u001b[1m   Installed\u001b[22m\u001b[39m IJulia ──────────────────── v1.30.0\n",
            "\u001b[32m\u001b[1m   Installed\u001b[22m\u001b[39m ICU_jll ─────────────────── v76.2.0+0\n",
            "\u001b[32m\u001b[1m   Installed\u001b[22m\u001b[39m MPIPreferences ──────────── v0.1.11\n",
            "\u001b[32m\u001b[1m   Installed\u001b[22m\u001b[39m libgeotiff_jll ──────────── v100.702.400+0\n",
            "\u001b[32m\u001b[1m   Installed\u001b[22m\u001b[39m Graphics ────────────────── v1.1.3\n",
            "\u001b[32m\u001b[1m   Installed\u001b[22m\u001b[39m CustomUnitRanges ────────── v1.0.2\n",
            "\u001b[32m\u001b[1m   Installed\u001b[22m\u001b[39m Lz4_jll ─────────────────── v1.10.1+0\n",
            "\u001b[32m\u001b[1m   Installed\u001b[22m\u001b[39m HypothesisTests ─────────── v0.11.5\n",
            "\u001b[32m\u001b[1m   Installed\u001b[22m\u001b[39m Graphs ──────────────────── v1.13.1\n",
            "\u001b[32m\u001b[1m   Installed\u001b[22m\u001b[39m ImageMetadata ───────────── v0.9.9\n",
            "\u001b[32m\u001b[1m   Installed\u001b[22m\u001b[39m Colors ──────────────────── v0.12.11\n",
            "\u001b[32m\u001b[1m   Installed\u001b[22m\u001b[39m StatsModels ─────────────── v0.7.6\n",
            "\u001b[32m\u001b[1m   Installed\u001b[22m\u001b[39m CatIndices ──────────────── v0.2.2\n",
            "\u001b[32m\u001b[1m   Installed\u001b[22m\u001b[39m GDAL ────────────────────── v1.11.0\n",
            "\u001b[32m\u001b[1m   Installed\u001b[22m\u001b[39m ImageContrastAdjustment ─── v0.3.12\n",
            "\u001b[32m\u001b[1m   Installed\u001b[22m\u001b[39m ImageMagick_jll ─────────── v7.1.2002+0\n",
            "\u001b[32m\u001b[1m   Installed\u001b[22m\u001b[39m NetCDF_jll ──────────────── v401.900.300+0\n",
            "\u001b[32m\u001b[1m   Installed\u001b[22m\u001b[39m ComputationalResources ──── v0.3.2\n",
            "\u001b[32m\u001b[1m   Installed\u001b[22m\u001b[39m ImageTransformations ────── v0.9.5\n",
            "\u001b[32m\u001b[1m   Installed\u001b[22m\u001b[39m HDF5_jll ────────────────── v1.14.6+0\n",
            "\u001b[32m\u001b[1m   Installed\u001b[22m\u001b[39m StructTypes ─────────────── v1.11.0\n",
            "\u001b[32m\u001b[1m   Installed\u001b[22m\u001b[39m MPICH_jll ───────────────── v4.3.1+0\n",
            "\u001b[32m\u001b[1m   Installed\u001b[22m\u001b[39m ColorTypes ──────────────── v0.11.5\n",
            "\u001b[32m\u001b[1m   Installed\u001b[22m\u001b[39m ImageCore ───────────────── v0.9.4\n",
            "\u001b[32m\u001b[1m   Installed\u001b[22m\u001b[39m libzip_jll ──────────────── v1.11.3+0\n",
            "\u001b[32m\u001b[1m   Installed\u001b[22m\u001b[39m Shapefile ───────────────── v0.10.0\n",
            "\u001b[32m\u001b[1m   Installed\u001b[22m\u001b[39m ImageQualityIndexes ─────── v0.3.7\n",
            "\u001b[32m\u001b[1m   Installed\u001b[22m\u001b[39m JSON3 ───────────────────── v1.14.3\n",
            "\u001b[32m\u001b[1m   Installed\u001b[22m\u001b[39m ImageShow ───────────────── v0.3.8\n",
            "\u001b[32m\u001b[1m   Installed\u001b[22m\u001b[39m brotli_jll ──────────────── v1.1.1+0\n",
            "\u001b[32m\u001b[1m   Installed\u001b[22m\u001b[39m IntegralArrays ──────────── v0.1.6\n",
            "\u001b[32m\u001b[1m   Installed\u001b[22m\u001b[39m OpenMPI_jll ─────────────── v5.0.8+0\n",
            "\u001b[32m\u001b[1m   Installed\u001b[22m\u001b[39m ColorVectorSpace ────────── v0.9.10\n",
            "\u001b[32m\u001b[1m   Installed\u001b[22m\u001b[39m CoordinateTransformations ─ v0.6.4\n",
            "\u001b[32m\u001b[1m   Installed\u001b[22m\u001b[39m Lux ─────────────────────── v1.19.0\n",
            "\u001b[32m\u001b[1m   Installed\u001b[22m\u001b[39m Combinatorics ───────────── v1.0.3\n",
            "\u001b[32m\u001b[1m   Installed\u001b[22m\u001b[39m Ghostscript_jll ─────────── v9.55.1+0\n",
            "\u001b[32m\u001b[1m   Installed\u001b[22m\u001b[39m NCDatasets ──────────────── v0.14.8\n",
            "\u001b[32m\u001b[1m   Installed\u001b[22m\u001b[39m ImageFiltering ──────────── v0.7.6\n",
            "\u001b[32m\u001b[1m   Installed\u001b[22m\u001b[39m CommonDataModel ─────────── v0.3.10\n",
            "\u001b[32m\u001b[1m   Installed\u001b[22m\u001b[39m CompositionsBase ────────── v0.1.2\n",
            "\u001b[32m\u001b[1m   Installed\u001b[22m\u001b[39m LittleCMS_jll ───────────── v2.17.0+0\n",
            "\u001b[32m\u001b[1m   Installed\u001b[22m\u001b[39m UnPack ──────────────────── v1.0.2\n",
            "\u001b[32m\u001b[1m   Installed\u001b[22m\u001b[39m Quaternions ─────────────── v0.7.6\n",
            "\u001b[32m\u001b[1m   Installed\u001b[22m\u001b[39m Arrow_jll ───────────────── v19.0.1+0\n",
            "\u001b[32m\u001b[1m   Installed\u001b[22m\u001b[39m Rotations ───────────────── v1.7.1\n",
            "\u001b[32m\u001b[1m   Installed\u001b[22m\u001b[39m ArchGDAL ────────────────── v0.10.8\n",
            "\u001b[32m\u001b[1m   Installed\u001b[22m\u001b[39m CommonSolve ─────────────── v0.2.4\n",
            "\u001b[32m\u001b[1m   Installed\u001b[22m\u001b[39m Blosc_jll ───────────────── v1.21.7+0\n",
            "\u001b[32m\u001b[1m   Installed\u001b[22m\u001b[39m libaec_jll ──────────────── v1.1.4+0\n",
            "\u001b[32m\u001b[1m   Installed\u001b[22m\u001b[39m XML2_jll ────────────────── v2.13.6+1\n",
            "\u001b[32m\u001b[1m   Installed\u001b[22m\u001b[39m Interfaces ──────────────── v0.3.2\n",
            "\u001b[32m\u001b[1m   Installed\u001b[22m\u001b[39m GeoFormatTypes ──────────── v0.4.4\n",
            "\u001b[32m\u001b[1m   Installed\u001b[22m\u001b[39m GEOS_jll ────────────────── v3.13.1+1\n",
            "\u001b[32m\u001b[1m   Installed\u001b[22m\u001b[39m ImageBase ───────────────── v0.1.5\n",
            "\u001b[32m\u001b[1m   Installed\u001b[22m\u001b[39m Kerberos_krb5_jll ───────── v1.21.3+0\n",
            "\u001b[32m\u001b[1m   Installed\u001b[22m\u001b[39m LibPQ_jll ───────────────── v16.8.0+0\n",
            "\u001b[32m\u001b[1m   Installed\u001b[22m\u001b[39m OpenJpeg_jll ────────────── v2.5.4+0\n",
            "\u001b[32m\u001b[1m   Installed\u001b[22m\u001b[39m GeoInterfaceRecipes ─────── v1.0.2\n",
            "\u001b[32m\u001b[1m   Installed\u001b[22m\u001b[39m PROJ_jll ────────────────── v902.600.200+0\n",
            "\u001b[32m\u001b[1m   Installed\u001b[22m\u001b[39m Interpolations ──────────── v0.14.0\n",
            "\u001b[32m\u001b[1m   Installed\u001b[22m\u001b[39m MakieCore ───────────────── v0.8.6\n",
            "\u001b[32m\u001b[1m   Installed\u001b[22m\u001b[39m GeometryBasics ──────────── v0.4.11\n",
            "\u001b[32m\u001b[1m   Installed\u001b[22m\u001b[39m SQLite_jll ──────────────── v3.48.0+0\n",
            "\u001b[32m\u001b[1m   Installed\u001b[22m\u001b[39m ShaderAbstractions ──────── v0.4.1\n",
            "\u001b[32m\u001b[1m   Installed\u001b[22m\u001b[39m ImageDistances ──────────── v0.2.17\n",
            "\u001b[32m\u001b[1m   Installed\u001b[22m\u001b[39m SimpleWeightedGraphs ────── v1.5.0\n",
            "\u001b[32m\u001b[1m   Installed\u001b[22m\u001b[39m FieldMetadata ───────────── v0.3.1\n",
            "\u001b[32m\u001b[1m   Installed\u001b[22m\u001b[39m Reactant_jll ────────────── v0.0.236+0\n",
            "\u001b[32m\u001b[1m   Installed\u001b[22m\u001b[39m MPItrampoline_jll ───────── v5.5.4+0\n",
            "\u001b[32m\u001b[1m   Installed\u001b[22m\u001b[39m AxisAlgorithms ──────────── v1.0.1\n",
            "\u001b[32m\u001b[1m   Installed\u001b[22m\u001b[39m StructArrays ────────────── v0.6.21\n",
            "\u001b[32m\u001b[1m   Installed\u001b[22m\u001b[39m NighttimeLights ─────────── v0.8.0\n",
            "\u001b[32m\u001b[1m   Installed\u001b[22m\u001b[39m CubicSplines ────────────── v0.2.1\n",
            "\u001b[32m\u001b[1m   Installed\u001b[22m\u001b[39m ImageAxes ───────────────── v0.6.11\n",
            "\u001b[32m\u001b[1m   Installed\u001b[22m\u001b[39m SmoothingSplines ────────── v0.3.2\n",
            "\u001b[32m\u001b[1m   Installed\u001b[22m\u001b[39m ShiftedArrays ───────────── v2.0.0\n",
            "\u001b[32m\u001b[1m   Installed\u001b[22m\u001b[39m FFTViews ────────────────── v0.3.2\n",
            "\u001b[32m\u001b[1m   Installed\u001b[22m\u001b[39m Parameters ──────────────── v0.12.3\n",
            "\u001b[32m\u001b[1m   Installed\u001b[22m\u001b[39m GeoInterface ────────────── v1.4.1\n",
            "\u001b[32m\u001b[1m   Installed\u001b[22m\u001b[39m ImageMorphology ─────────── v0.3.2\n",
            "\u001b[32m\u001b[1m   Installed\u001b[22m\u001b[39m DiskArrays ──────────────── v0.4.15\n",
            "\u001b[32m\u001b[1m   Installed\u001b[22m\u001b[39m WoodburyMatrices ────────── v0.5.6\n",
            "\u001b[32m\u001b[1m   Installed\u001b[22m\u001b[39m Flatten ─────────────────── v0.4.3\n",
            "\u001b[32m\u001b[1m   Installed\u001b[22m\u001b[39m Reactant ────────────────── v0.2.158\n",
            "\u001b[32m\u001b[1m   Installed\u001b[22m\u001b[39m Makie ───────────────────── v0.21.9\n",
            "\u001b[32m\u001b[1m    Updating\u001b[22m\u001b[39m `~/.julia/environments/v1.11/Project.toml`\n",
            "\u001b[32m⌃\u001b[39m \u001b[90m[62cb38b5] \u001b[39m\u001b[92m+ GeoDataFrames v0.3.13\u001b[39m\n",
            "\u001b[32m⌃\u001b[39m \u001b[90m[61d90e0f] \u001b[39m\u001b[92m+ GeoJSON v0.8.3\u001b[39m\n",
            "  \u001b[90m[7073ff75] \u001b[39m\u001b[93m↑ IJulia v1.29.2 ⇒ v1.30.0\u001b[39m\n",
            "  \u001b[90m[b2108857] \u001b[39m\u001b[93m↑ Lux v1.17.0 ⇒ v1.19.0\u001b[39m\n",
            "\u001b[32m⌃\u001b[39m \u001b[90m[ee78f7c6] \u001b[39m\u001b[95m↓ Makie v0.24.6 ⇒ v0.21.9\u001b[39m\n",
            "  \u001b[90m[4d912a30] \u001b[39m\u001b[92m+ NighttimeLights v0.8.0\u001b[39m\n",
            "\u001b[33m⌅\u001b[39m \u001b[90m[a3a2b9e3] \u001b[39m\u001b[92m+ Rasters v0.11.8\u001b[39m\n",
            "  \u001b[90m[3c362404] \u001b[39m\u001b[93m↑ Reactant v0.2.154 ⇒ v0.2.158\u001b[39m\n",
            "  \u001b[90m[ade2ca70] \u001b[39m\u001b[92m+ Dates v1.11.0\u001b[39m\n",
            "\u001b[32m\u001b[1m    Updating\u001b[22m\u001b[39m `~/.julia/environments/v1.11/Manifest.toml`\n",
            "  \u001b[90m[7d9f7c33] \u001b[39m\u001b[92m+ Accessors v0.1.42\u001b[39m\n",
            "\u001b[32m⌃\u001b[39m \u001b[90m[c9ce4bd3] \u001b[39m\u001b[92m+ ArchGDAL v0.10.8\u001b[39m\n",
            "  \u001b[90m[ec485272] \u001b[39m\u001b[92m+ ArnoldiMethod v0.4.0\u001b[39m\n",
            "\u001b[32m⌃\u001b[39m \u001b[90m[13072b0f] \u001b[39m\u001b[95m↓ AxisAlgorithms v1.1.0 ⇒ v1.0.1\u001b[39m\n",
            "  \u001b[90m[179af706] \u001b[39m\u001b[92m+ CFTime v0.2.1\u001b[39m\n",
            "  \u001b[90m[aafaddc9] \u001b[39m\u001b[92m+ CatIndices v0.2.2\u001b[39m\n",
            "  \u001b[90m[aaaa29a8] \u001b[39m\u001b[92m+ Clustering v0.15.8\u001b[39m\n",
            "\u001b[32m⌃\u001b[39m \u001b[90m[35d6a980] \u001b[39m\u001b[95m↓ ColorSchemes v3.30.0 ⇒ v3.26.0\u001b[39m\n",
            "\u001b[33m⌅\u001b[39m \u001b[90m[3da002f7] \u001b[39m\u001b[95m↓ ColorTypes v0.12.1 ⇒ v0.11.5\u001b[39m\n",
            "\u001b[33m⌅\u001b[39m \u001b[90m[c3611d14] \u001b[39m\u001b[95m↓ ColorVectorSpace v0.11.0 ⇒ v0.9.10\u001b[39m\n",
            "\u001b[33m⌅\u001b[39m \u001b[90m[5ae59095] \u001b[39m\u001b[95m↓ Colors v0.13.1 ⇒ v0.12.11\u001b[39m\n",
            "  \u001b[90m[861a8166] \u001b[39m\u001b[92m+ Combinatorics v1.0.3\u001b[39m\n",
            "  \u001b[90m[1fbeeb36] \u001b[39m\u001b[92m+ CommonDataModel v0.3.10\u001b[39m\n",
            "  \u001b[90m[38540f10] \u001b[39m\u001b[92m+ CommonSolve v0.2.4\u001b[39m\n",
            "  \u001b[90m[a33af91c] \u001b[39m\u001b[92m+ CompositionsBase v0.1.2\u001b[39m\n",
            "  \u001b[90m[ed09eef8] \u001b[39m\u001b[92m+ ComputationalResources v0.3.2\u001b[39m\n",
            "  \u001b[90m[95dc2771] \u001b[39m\u001b[91m- ComputePipeline v0.1.4\u001b[39m\n",
            "  \u001b[90m[150eb455] \u001b[39m\u001b[92m+ CoordinateTransformations v0.6.4\u001b[39m\n",
            "  \u001b[90m[9c784101] \u001b[39m\u001b[92m+ CubicSplines v0.2.1\u001b[39m\n",
            "  \u001b[90m[dc8bdbbb] \u001b[39m\u001b[92m+ CustomUnitRanges v1.0.2\u001b[39m\n",
            "  \u001b[90m[75c7ada1] \u001b[39m\u001b[92m+ DBFTables v1.2.7\u001b[39m\n",
            "\u001b[33m⌅\u001b[39m \u001b[90m[0703355e] \u001b[39m\u001b[92m+ DimensionalData v0.27.9\u001b[39m\n",
            "  \u001b[90m[3c3547ce] \u001b[39m\u001b[92m+ DiskArrays v0.4.15\u001b[39m\n",
            "  \u001b[90m[b4f34e82] \u001b[39m\u001b[92m+ Distances v0.10.12\u001b[39m\n",
            "  \u001b[90m[4f61f5a4] \u001b[39m\u001b[92m+ FFTViews v0.3.2\u001b[39m\n",
            "  \u001b[90m[bf96fef3] \u001b[39m\u001b[92m+ FieldMetadata v0.3.1\u001b[39m\n",
            "  \u001b[90m[4c728ea3] \u001b[39m\u001b[92m+ Flatten v0.4.3\u001b[39m\n",
            "  \u001b[90m[add2ef01] \u001b[39m\u001b[92m+ GDAL v1.11.0\u001b[39m\n",
            "  \u001b[90m[38e38edf] \u001b[39m\u001b[92m+ GLM v1.9.0\u001b[39m\n",
            "\u001b[32m⌃\u001b[39m \u001b[90m[62cb38b5] \u001b[39m\u001b[92m+ GeoDataFrames v0.3.13\u001b[39m\n",
            "  \u001b[90m[68eda718] \u001b[39m\u001b[92m+ GeoFormatTypes v0.4.4\u001b[39m\n",
            "\u001b[32m⌃\u001b[39m \u001b[90m[cf35fbd7] \u001b[39m\u001b[92m+ GeoInterface v1.4.1\u001b[39m\n",
            "  \u001b[90m[0edc0954] \u001b[39m\u001b[92m+ GeoInterfaceMakie v0.1.9\u001b[39m\n",
            "  \u001b[90m[0329782f] \u001b[39m\u001b[92m+ GeoInterfaceRecipes v1.0.2\u001b[39m\n",
            "\u001b[32m⌃\u001b[39m \u001b[90m[61d90e0f] \u001b[39m\u001b[92m+ GeoJSON v0.8.3\u001b[39m\n",
            "\u001b[33m⌅\u001b[39m \u001b[90m[5c1252a2] \u001b[39m\u001b[95m↓ GeometryBasics v0.5.10 ⇒ v0.4.11\u001b[39m\n",
            "  \u001b[90m[a2bd30eb] \u001b[39m\u001b[92m+ Graphics v1.1.3\u001b[39m\n",
            "  \u001b[90m[86223c79] \u001b[39m\u001b[92m+ Graphs v1.13.1\u001b[39m\n",
            "  \u001b[90m[09f84164] \u001b[39m\u001b[92m+ HypothesisTests v0.11.5\u001b[39m\n",
            "  \u001b[90m[7073ff75] \u001b[39m\u001b[93m↑ IJulia v1.29.2 ⇒ v1.30.0\u001b[39m\n",
            "\u001b[32m⌃\u001b[39m \u001b[90m[2803e5a7] \u001b[39m\u001b[95m↓ ImageAxes v0.6.12 ⇒ v0.6.11\u001b[39m\n",
            "\u001b[32m⌃\u001b[39m \u001b[90m[c817782e] \u001b[39m\u001b[95m↓ ImageBase v0.1.7 ⇒ v0.1.5\u001b[39m\n",
            "  \u001b[90m[f332f351] \u001b[39m\u001b[92m+ ImageContrastAdjustment v0.3.12\u001b[39m\n",
            "\u001b[33m⌅\u001b[39m \u001b[90m[a09fc81d] \u001b[39m\u001b[95m↓ ImageCore v0.10.5 ⇒ v0.9.4\u001b[39m\n",
            "  \u001b[90m[51556ac3] \u001b[39m\u001b[92m+ ImageDistances v0.2.17\u001b[39m\n",
            "\u001b[32m⌃\u001b[39m \u001b[90m[6a3955dd] \u001b[39m\u001b[92m+ ImageFiltering v0.7.6\u001b[39m\n",
            "\u001b[32m⌃\u001b[39m \u001b[90m[82e4d734] \u001b[39m\u001b[95m↓ ImageIO v0.6.9 ⇒ v0.6.8\u001b[39m\n",
            "  \u001b[90m[6218d12a] \u001b[39m\u001b[92m+ ImageMagick v1.4.2\u001b[39m\n",
            "\u001b[32m⌃\u001b[39m \u001b[90m[bc367c6b] \u001b[39m\u001b[95m↓ ImageMetadata v0.9.10 ⇒ v0.9.9\u001b[39m\n",
            "\u001b[33m⌅\u001b[39m \u001b[90m[787d08f9] \u001b[39m\u001b[92m+ ImageMorphology v0.3.2\u001b[39m\n",
            "  \u001b[90m[2996bd0c] \u001b[39m\u001b[92m+ ImageQualityIndexes v0.3.7\u001b[39m\n",
            "\u001b[32m⌃\u001b[39m \u001b[90m[80713f31] \u001b[39m\u001b[92m+ ImageSegmentation v1.8.1\u001b[39m\n",
            "  \u001b[90m[4e3cecfd] \u001b[39m\u001b[92m+ ImageShow v0.3.8\u001b[39m\n",
            "\u001b[33m⌅\u001b[39m \u001b[90m[02fcd773] \u001b[39m\u001b[92m+ ImageTransformations v0.9.5\u001b[39m\n",
            "\u001b[33m⌅\u001b[39m \u001b[90m[916415d5] \u001b[39m\u001b[92m+ Images v0.25.3\u001b[39m\n",
            "  \u001b[90m[1d092043] \u001b[39m\u001b[92m+ IntegralArrays v0.1.6\u001b[39m\n",
            "  \u001b[90m[85a1e053] \u001b[39m\u001b[92m+ Interfaces v0.3.2\u001b[39m\n",
            "\u001b[33m⌅\u001b[39m \u001b[90m[a98d9a8b] \u001b[39m\u001b[95m↓ Interpolations v0.16.1 ⇒ v0.14.0\u001b[39m\n",
            "\u001b[33m⌅\u001b[39m \u001b[90m[033835bb] \u001b[39m\u001b[92m+ JLD2 v0.4.54\u001b[39m\n",
            "  \u001b[90m[0f8b85d8] \u001b[39m\u001b[92m+ JSON3 v1.14.3\u001b[39m\n",
            "  \u001b[90m[8ac3fa9e] \u001b[39m\u001b[92m+ LRUCache v1.6.2\u001b[39m\n",
            "  \u001b[90m[b2108857] \u001b[39m\u001b[93m↑ Lux v1.17.0 ⇒ v1.19.0\u001b[39m\n",
            "  \u001b[90m[bb33d45b] \u001b[39m\u001b[93m↑ LuxCore v1.3.0 ⇒ v1.4.0\u001b[39m\n",
            "  \u001b[90m[3da0fdf6] \u001b[39m\u001b[92m+ MPIPreferences v0.1.11\u001b[39m\n",
            "\u001b[32m⌃\u001b[39m \u001b[90m[ee78f7c6] \u001b[39m\u001b[95m↓ Makie v0.24.6 ⇒ v0.21.9\u001b[39m\n",
            "\u001b[33m⌅\u001b[39m \u001b[90m[20f20a25] \u001b[39m\u001b[92m+ MakieCore v0.8.6\u001b[39m\n",
            "\u001b[33m⌅\u001b[39m \u001b[90m[626554b9] \u001b[39m\u001b[92m+ MetaGraphs v0.7.2\u001b[39m\n",
            "  \u001b[90m[85f8d34a] \u001b[39m\u001b[92m+ NCDatasets v0.14.8\u001b[39m\n",
            "  \u001b[90m[b8a86587] \u001b[39m\u001b[92m+ NearestNeighbors v0.4.22\u001b[39m\n",
            "  \u001b[90m[4d912a30] \u001b[39m\u001b[92m+ NighttimeLights v0.8.0\u001b[39m\n",
            "  \u001b[90m[d96e819e] \u001b[39m\u001b[92m+ Parameters v0.12.3\u001b[39m\n",
            "  \u001b[90m[92933f4c] \u001b[39m\u001b[93m↑ ProgressMeter v1.10.4 ⇒ v1.11.0\u001b[39m\n",
            "  \u001b[90m[94ee1d12] \u001b[39m\u001b[92m+ Quaternions v0.7.6\u001b[39m\n",
            "\u001b[33m⌅\u001b[39m \u001b[90m[a3a2b9e3] \u001b[39m\u001b[92m+ Rasters v0.11.8\u001b[39m\n",
            "  \u001b[90m[3c362404] \u001b[39m\u001b[93m↑ Reactant v0.2.154 ⇒ v0.2.158\u001b[39m\n",
            "  \u001b[90m[c1ae055f] \u001b[39m\u001b[92m+ RealDot v0.1.0\u001b[39m\n",
            "  \u001b[90m[dee08c22] \u001b[39m\u001b[92m+ RegionTrees v0.3.2\u001b[39m\n",
            "  \u001b[90m[f2b01f46] \u001b[39m\u001b[92m+ Roots v2.2.10\u001b[39m\n",
            "  \u001b[90m[6038ab10] \u001b[39m\u001b[92m+ Rotations v1.7.1\u001b[39m\n",
            "\u001b[33m⌅\u001b[39m \u001b[90m[65257c39] \u001b[39m\u001b[95m↓ ShaderAbstractions v0.5.0 ⇒ v0.4.1\u001b[39m\n",
            "\u001b[33m⌅\u001b[39m \u001b[90m[8e980c4a] \u001b[39m\u001b[92m+ Shapefile v0.10.0\u001b[39m\n",
            "  \u001b[90m[1277b4bf] \u001b[39m\u001b[92m+ ShiftedArrays v2.0.0\u001b[39m\n",
            "  \u001b[90m[47aef6b3] \u001b[39m\u001b[92m+ SimpleWeightedGraphs v1.5.0\u001b[39m\n",
            "  \u001b[90m[102930c3] \u001b[39m\u001b[92m+ SmoothingSplines v0.3.2\u001b[39m\n",
            "  \u001b[90m[b85f4697] \u001b[39m\u001b[91m- SoftGlobalScope v1.1.0\u001b[39m\n",
            "  \u001b[90m[3eaba693] \u001b[39m\u001b[92m+ StatsModels v0.7.6\u001b[39m\n",
            "\u001b[33m⌅\u001b[39m \u001b[90m[09ab397b] \u001b[39m\u001b[95m↓ StructArrays v0.7.1 ⇒ v0.6.21\u001b[39m\n",
            "  \u001b[90m[856f2bd8] \u001b[39m\u001b[92m+ StructTypes v1.11.0\u001b[39m\n",
            "\u001b[33m⌅\u001b[39m \u001b[90m[731e570b] \u001b[39m\u001b[95m↓ TiffImages v0.11.4 ⇒ v0.10.2\u001b[39m\n",
            "\u001b[33m⌅\u001b[39m \u001b[90m[06e1c1a7] \u001b[39m\u001b[92m+ TiledIteration v0.3.1\u001b[39m\n",
            "  \u001b[90m[3a884ed6] \u001b[39m\u001b[92m+ UnPack v1.0.2\u001b[39m\n",
            "  \u001b[90m[e3aaa7dc] \u001b[39m\u001b[91m- WebP v0.1.3\u001b[39m\n",
            "\u001b[33m⌅\u001b[39m \u001b[90m[efce3f68] \u001b[39m\u001b[95m↓ WoodburyMatrices v1.0.0 ⇒ v0.5.6\u001b[39m\n",
            "  \u001b[90m[8ce61222] \u001b[39m\u001b[92m+ Arrow_jll v19.0.1+0\u001b[39m\n",
            "  \u001b[90m[0b7ba130] \u001b[39m\u001b[92m+ Blosc_jll v1.21.7+0\u001b[39m\n",
            "  \u001b[90m[a7073274] \u001b[39m\u001b[92m+ GDAL_jll v303.1100.300+0\u001b[39m\n",
            "  \u001b[90m[d604d12d] \u001b[39m\u001b[92m+ GEOS_jll v3.13.1+1\u001b[39m\n",
            "  \u001b[90m[61579ee1] \u001b[39m\u001b[92m+ Ghostscript_jll v9.55.1+0\u001b[39m\n",
            "  \u001b[90m[818ab7a1] \u001b[39m\u001b[92m+ HDF4_jll v4.3.2+0\u001b[39m\n",
            "  \u001b[90m[0234f1f7] \u001b[39m\u001b[92m+ HDF5_jll v1.14.6+0\u001b[39m\n",
            "  \u001b[90m[e33a78d0] \u001b[39m\u001b[92m+ Hwloc_jll v2.12.1+0\u001b[39m\n",
            "  \u001b[90m[a51ab1cf] \u001b[39m\u001b[92m+ ICU_jll v76.2.0+0\u001b[39m\n",
            "  \u001b[90m[c73af94c] \u001b[39m\u001b[92m+ ImageMagick_jll v7.1.2002+0\u001b[39m\n",
            "  \u001b[90m[b39eb1a6] \u001b[39m\u001b[92m+ Kerberos_krb5_jll v1.21.3+0\u001b[39m\n",
            "  \u001b[90m[08be9ffa] \u001b[39m\u001b[92m+ LibPQ_jll v16.8.0+0\u001b[39m\n",
            "  \u001b[90m[d3a379c0] \u001b[39m\u001b[92m+ LittleCMS_jll v2.17.0+0\u001b[39m\n",
            "  \u001b[90m[5ced341a] \u001b[39m\u001b[92m+ Lz4_jll v1.10.1+0\u001b[39m\n",
            "  \u001b[90m[7cb0a576] \u001b[39m\u001b[92m+ MPICH_jll v4.3.1+0\u001b[39m\n",
            "  \u001b[90m[f1f71cc9] \u001b[39m\u001b[92m+ MPItrampoline_jll v5.5.4+0\u001b[39m\n",
            "  \u001b[90m[9237b28f] \u001b[39m\u001b[92m+ MicrosoftMPI_jll v10.1.4+3\u001b[39m\n",
            "  \u001b[90m[7243133f] \u001b[39m\u001b[92m+ NetCDF_jll v401.900.300+0\u001b[39m\n",
            "  \u001b[90m[643b3616] \u001b[39m\u001b[92m+ OpenJpeg_jll v2.5.4+0\u001b[39m\n",
            "  \u001b[90m[fe0851c0] \u001b[39m\u001b[92m+ OpenMPI_jll v5.0.8+0\u001b[39m\n",
            "  \u001b[90m[58948b4f] \u001b[39m\u001b[92m+ PROJ_jll v902.600.200+0\u001b[39m\n",
            "  \u001b[90m[784f63db] \u001b[39m\u001b[92m+ Qhull_jll v10008.0.1004+0\u001b[39m\n",
            "  \u001b[90m[0192cb87] \u001b[39m\u001b[93m↑ Reactant_jll v0.0.232+0 ⇒ v0.0.236+0\u001b[39m\n",
            "  \u001b[90m[76ed43ae] \u001b[39m\u001b[92m+ SQLite_jll v3.48.0+0\u001b[39m\n",
            "  \u001b[90m[e0b8ae26] \u001b[39m\u001b[92m+ Thrift_jll v0.21.1+0\u001b[39m\n",
            "\u001b[33m⌅\u001b[39m \u001b[90m[02c8fc9c] \u001b[39m\u001b[92m+ XML2_jll v2.13.6+1\u001b[39m\n",
            "  \u001b[90m[28df3c45] \u001b[39m\u001b[92m+ boost_jll v1.87.0+0\u001b[39m\n",
            "  \u001b[90m[4611771a] \u001b[39m\u001b[92m+ brotli_jll v1.1.1+0\u001b[39m\n",
            "  \u001b[90m[477f73a3] \u001b[39m\u001b[92m+ libaec_jll v1.1.4+0\u001b[39m\n",
            "  \u001b[90m[06c338fa] \u001b[39m\u001b[92m+ libgeotiff_jll v100.702.400+0\u001b[39m\n",
            "  \u001b[90m[337d8026] \u001b[39m\u001b[92m+ libzip_jll v1.11.3+0\u001b[39m\n",
            "  \u001b[90m[888e69b1] \u001b[39m\u001b[92m+ muparser_jll v2.3.5+0\u001b[39m\n",
            "  \u001b[90m[fe1e1685] \u001b[39m\u001b[92m+ snappy_jll v1.2.3+0\u001b[39m\n",
            "\u001b[36m\u001b[1m        Info\u001b[22m\u001b[39m Packages marked with \u001b[32m⌃\u001b[39m and \u001b[33m⌅\u001b[39m have new versions available. Those with \u001b[32m⌃\u001b[39m may be upgradable, but those with \u001b[33m⌅\u001b[39m are restricted by compatibility constraints from upgrading. To see why use `status --outdated -m`\n",
            "\u001b[32m\u001b[1m    Building\u001b[22m\u001b[39m IJulia → `~/.julia/scratchspaces/44cfe95a-1eb2-52ea-b672-e2afdf69b78f/2004107fe26a14a37c7bd9b51c006809b177b913/build.log`\n",
            "\u001b[92m\u001b[1mPrecompiling\u001b[22m\u001b[39m project...\n",
            "   4023.2 ms\u001b[32m  ✓ \u001b[39m\u001b[90mGeoFormatTypes\u001b[39m\n",
            "   3460.2 ms\u001b[32m  ✓ \u001b[39m\u001b[90mRealDot\u001b[39m\n",
            "   3490.1 ms\u001b[32m  ✓ \u001b[39m\u001b[90mCustomUnitRanges\u001b[39m\n",
            "   1203.3 ms\u001b[32m  ✓ \u001b[39m\u001b[90mFieldMetadata\u001b[39m\n",
            "   1209.0 ms\u001b[32m  ✓ \u001b[39m\u001b[90mUnPack\u001b[39m\n",
            "   1475.1 ms\u001b[32m  ✓ \u001b[39m\u001b[90mTiledIteration\u001b[39m\n",
            "    880.6 ms\u001b[32m  ✓ \u001b[39m\u001b[90mCommonSolve\u001b[39m\n",
            "   1271.1 ms\u001b[32m  ✓ \u001b[39m\u001b[90mShiftedArrays\u001b[39m\n",
            "    973.9 ms\u001b[32m  ✓ \u001b[39m\u001b[90mCompositionsBase\u001b[39m\n",
            "   1445.4 ms\u001b[32m  ✓ \u001b[39m\u001b[90mInterfaces\u001b[39m\n",
            "   2812.8 ms\u001b[32m  ✓ \u001b[39m\u001b[90mCombinatorics\u001b[39m\n",
            "   1349.6 ms\u001b[32m  ✓ \u001b[39m\u001b[90mLRUCache\u001b[39m\n",
            "   1407.7 ms\u001b[32m  ✓ \u001b[39m\u001b[90mComputationalResources\u001b[39m\n",
            "   2297.3 ms\u001b[32m  ✓ \u001b[39m\u001b[90mDistances\u001b[39m\n",
            "   3047.6 ms\u001b[32m  ✓ \u001b[39m\u001b[90mProgressMeter\u001b[39m\n",
            "   2807.4 ms\u001b[32m  ✓ \u001b[39m\u001b[90mStructArrays\u001b[39m\n",
            "   2935.4 ms\u001b[32m  ✓ \u001b[39m\u001b[90mWoodburyMatrices\u001b[39m\n",
            "   3438.4 ms\u001b[32m  ✓ \u001b[39m\u001b[90mStructTypes\u001b[39m\n",
            "   1135.1 ms\u001b[32m  ✓ \u001b[39m\u001b[90mCubicSplines\u001b[39m\n",
            "   3215.1 ms\u001b[32m  ✓ \u001b[39m\u001b[90mCFTime\u001b[39m\n",
            "   1782.4 ms\u001b[32m  ✓ \u001b[39m\u001b[90mMPIPreferences\u001b[39m\n",
            "   1747.2 ms\u001b[32m  ✓ \u001b[39m\u001b[90msnappy_jll\u001b[39m\n",
            "   1536.3 ms\u001b[32m  ✓ \u001b[39m\u001b[90mGEOS_jll\u001b[39m\n",
            "  10216.9 ms\u001b[32m  ✓ \u001b[39m\u001b[90mColorTypes\u001b[39m\n",
            "   1743.3 ms\u001b[32m  ✓ \u001b[39m\u001b[90mlibaec_jll\u001b[39m\n",
            "   3067.5 ms\u001b[32m  ✓ \u001b[39m\u001b[90mQhull_jll\u001b[39m\n",
            "   2154.2 ms\u001b[32m  ✓ \u001b[39m\u001b[90mXML2_jll\u001b[39m\n",
            "   1721.4 ms\u001b[32m  ✓ \u001b[39m\u001b[90mLz4_jll\u001b[39m\n",
            "   1965.5 ms\u001b[32m  ✓ \u001b[39m\u001b[90mHwloc_jll\u001b[39m\n",
            "   3307.1 ms\u001b[32m  ✓ \u001b[39m\u001b[90mbrotli_jll\u001b[39m\n",
            "   2565.4 ms\u001b[32m  ✓ \u001b[39m\u001b[90mMicrosoftMPI_jll\u001b[39m\n",
            "   5512.4 ms\u001b[32m  ✓ \u001b[39m\u001b[90mGhostscript_jll\u001b[39m\n",
            "   2077.3 ms\u001b[32m  ✓ \u001b[39m\u001b[90mKerberos_krb5_jll\u001b[39m\n",
            "   1469.9 ms\u001b[32m  ✓ \u001b[39m\u001b[90mSQLite_jll\u001b[39m\n",
            "   2476.3 ms\u001b[32m  ✓ \u001b[39m\u001b[90mICU_jll\u001b[39m\n",
            "   1850.7 ms\u001b[32m  ✓ \u001b[39m\u001b[90mmuparser_jll\u001b[39m\n",
            "   4713.5 ms\u001b[32m  ✓ \u001b[39m\u001b[90mLuxCore\u001b[39m\n",
            "   2037.8 ms\u001b[32m  ✓ \u001b[39m\u001b[90mLittleCMS_jll\u001b[39m\n",
            "   6384.5 ms\u001b[32m  ✓ \u001b[39m\u001b[90mReactant_jll\u001b[39m\n",
            "   2367.1 ms\u001b[32m  ✓ \u001b[39m\u001b[90mlibzip_jll\u001b[39m\n",
            "   6465.0 ms\u001b[32m  ✓ \u001b[39m\u001b[90mboost_jll\u001b[39m\n",
            "   4358.8 ms\u001b[32m  ✓ \u001b[39m\u001b[90mCoordinateTransformations\u001b[39m\n",
            "   5306.4 ms\u001b[32m  ✓ \u001b[39m\u001b[90mArnoldiMethod\u001b[39m\n",
            "   2230.6 ms\u001b[32m  ✓ \u001b[39m\u001b[90mRegionTrees\u001b[39m\n",
            "   2746.9 ms\u001b[32m  ✓ \u001b[39m\u001b[90mSmoothingSplines\u001b[39m\n",
            "   2301.8 ms\u001b[32m  ✓ \u001b[39m\u001b[90mDBFTables\u001b[39m\n",
            "   3401.5 ms\u001b[32m  ✓ \u001b[39m\u001b[90mGeoInterface\u001b[39m\n",
            "   1605.2 ms\u001b[32m  ✓ \u001b[39m\u001b[90mQuaternions\u001b[39m\n",
            "   2112.3 ms\u001b[32m  ✓ \u001b[39m\u001b[90mCatIndices\u001b[39m\n",
            "   2844.6 ms\u001b[32m  ✓ \u001b[39m\u001b[90mFFTViews\u001b[39m\n",
            "   1569.2 ms\u001b[32m  ✓ \u001b[39m\u001b[90mFlatten\u001b[39m\n",
            "   1223.6 ms\u001b[32m  ✓ \u001b[39m\u001b[90mParameters\u001b[39m\n",
            "   9719.2 ms\u001b[32m  ✓ \u001b[39m\u001b[90mStatsModels\u001b[39m\n",
            "   1735.3 ms\u001b[32m  ✓ \u001b[39m\u001b[90mCompositionsBase → CompositionsBaseInverseFunctionsExt\u001b[39m\n",
            "  56316.7 ms\u001b[33m  ✓ \u001b[39mIJulia\n",
            "   1434.9 ms\u001b[32m  ✓ \u001b[39m\u001b[90mLRUCache → SerializationExt\u001b[39m\n",
            "   5456.2 ms\u001b[32m  ✓ \u001b[39m\u001b[90mDiskArrays\u001b[39m\n",
            "   1873.9 ms\u001b[32m  ✓ \u001b[39m\u001b[90mDistances → DistancesSparseArraysExt\u001b[39m\n",
            "  11134.0 ms\u001b[32m  ✓ \u001b[39m\u001b[90mNearestNeighbors\u001b[39m\n",
            "   1553.5 ms\u001b[32m  ✓ \u001b[39m\u001b[90mDistances → DistancesChainRulesCoreExt\u001b[39m\n",
            "   2132.7 ms\u001b[32m  ✓ \u001b[39m\u001b[90mStructArrays → StructArraysStaticArraysExt\u001b[39m\n",
            "   1259.9 ms\u001b[32m  ✓ \u001b[39m\u001b[90mStructArrays → StructArraysAdaptExt\u001b[39m\n",
            "   1416.8 ms\u001b[32m  ✓ \u001b[39m\u001b[90mStructArrays → StructArraysLinearAlgebraExt\u001b[39m\n",
            "   1695.7 ms\u001b[32m  ✓ \u001b[39m\u001b[90mStructArrays → StructArraysSparseArraysExt\u001b[39m\n",
            "   3442.0 ms\u001b[32m  ✓ \u001b[39m\u001b[90mStructArrays → StructArraysGPUArraysCoreExt\u001b[39m\n",
            "   2366.0 ms\u001b[32m  ✓ \u001b[39m\u001b[90mAxisAlgorithms\u001b[39m\n"
          ]
        }
      ]
    },
    {
      "cell_type": "code",
      "source": [
        ";git clone https://github.com/xKDR/Shedding-light-on-the-Russia-Ukraine-war.git"
      ],
      "metadata": {
        "id": "6YZptoMMoZ4i"
      },
      "execution_count": null,
      "outputs": []
    },
    {
      "cell_type": "code",
      "source": [
        "## Fetching the raster files\n",
        "## This will take around 5 mins\n",
        "\n",
        "run(`apt-get install git-lfs -y`)\n",
        "run(`git lfs install`)\n",
        "cd(\"Shedding-light-on-the-Russia-Ukraine-war\")\n",
        "run(`git lfs pull`)"
      ],
      "metadata": {
        "id": "w5Qth_eTaA5h"
      },
      "execution_count": null,
      "outputs": []
    },
    {
      "cell_type": "code",
      "source": [
        "using GeoJSON\n",
        "using GeoDataFrames\n",
        "using DataFrames\n",
        "using NighttimeLights\n",
        "using Rasters\n",
        "using CSV\n",
        "using Dates"
      ],
      "metadata": {
        "id": "7xAps6hLTXE4",
        "collapsed": true
      },
      "execution_count": null,
      "outputs": []
    },
    {
      "cell_type": "code",
      "execution_count": null,
      "metadata": {
        "id": "Om9EPhk7TF3a"
      },
      "outputs": [],
      "source": [
        "# Define path constants\n",
        "const FIGURES_DIRECTORY = \"figures\"\n",
        "const TABLES_DIRECTORY = \"tables\"\n",
        "const VECTOR_DIRECTORY = \"data/vector\"\n",
        "const TABULAR_DIRECTORY = \"data/tabular\"\n",
        "const RADIANCE_RASTER_DIRECTORY = \"/content/Shedding-light-on-the-Russia-Ukraine-war/data/raster/rad_cropped\"\n",
        "const CFOBS_RASTER_DIRECTORY = \"/content/Shedding-light-on-the-Russia-Ukraine-war/data/raster/cf_cropped\""
      ]
    },
    {
      "cell_type": "code",
      "source": [
        "const START_DATE = Date(2014, 1)\n",
        "const END_DATE = Date(2016, 1)"
      ],
      "metadata": {
        "id": "VbY_ee1ip6Ev"
      },
      "execution_count": null,
      "outputs": []
    },
    {
      "cell_type": "code",
      "source": [
        "function read_vector(filename)\n",
        "# Use GeoJSON.read, which expects an IO\n",
        "    geo = open(filename) do f\n",
        "        GeoJSON.read(f)\n",
        "    end\n",
        "\n",
        "    # Now extract features\n",
        "    features = geo.features\n",
        "\n",
        "    # Build DataFrame with properties + geometry\n",
        "    return DataFrame([merge(Dict(f.properties), Dict(:geometry => f.geometry)) for f in features])\n",
        "end"
      ],
      "metadata": {
        "id": "_PpsdO1cRZNS"
      },
      "execution_count": null,
      "outputs": []
    },
    {
      "cell_type": "markdown",
      "source": [
        "#PROCESSING"
      ],
      "metadata": {
        "id": "xXUjxw-_Mmqt"
      }
    },
    {
      "cell_type": "code",
      "source": [
        "function safe_centre_of_mass(slice::AbstractArray, state_name::String)\n",
        "    s = sum(skipmissing(slice))\n",
        "    if ismissing(s) || isnan(s) || s == 0.0f0\n",
        "        return [NaN, NaN]\n",
        "    end\n",
        "    try\n",
        "        return NighttimeLights.centre_of_mass(slice)\n",
        "    catch e\n",
        "        if isa(e, InexactError)\n",
        "            println(\"Warning: CoM calculation failed for '$state_name'. Returning [NaN, NaN].\")\n",
        "            return [NaN, NaN]\n",
        "        else\n",
        "            rethrow(e)\n",
        "        end\n",
        "    end\n",
        "end"
      ],
      "metadata": {
        "colab": {
          "base_uri": "https://localhost:8080/"
        },
        "outputId": "944ec8b1-ed31-4444-ef1d-0736959fdbcc",
        "id": "ycaCDS_rMwAt"
      },
      "execution_count": 15,
      "outputs": [
        {
          "output_type": "execute_result",
          "data": {
            "text/plain": [
              "safe_centre_of_mass (generic function with 1 method)"
            ]
          },
          "metadata": {},
          "execution_count": 15
        }
      ]
    },
    {
      "cell_type": "code",
      "source": [
        "import Base.Filesystem: basename\n",
        "\n",
        "\"\"\"\n",
        "Extracts Date from filename.\n",
        "Matches either `YYYY-MM-DD` or `YYYY-MM-DDTHH:MM:SS`.\n",
        "\"\"\"\n",
        "function file_to_date(f::AbstractString)\n",
        "    b = basename(f)\n",
        "    m = match(r\"\\d{4}-\\d{2}-\\d{2}(?:T\\d{2}:\\d{2}:\\d{2})?\", b)\n",
        "    m === nothing && error(\"Cannot parse date from filename: $f\")\n",
        "    s = m.match\n",
        "    if occursin('T', s)\n",
        "        return Date(DateTime(s, dateformat\"yyyy-mm-ddTHH:MM:SS\"))\n",
        "    else\n",
        "        return Date(s, dateformat\"yyyy-mm-dd\")\n",
        "    end\n",
        "end\n",
        "\n",
        "\n",
        "\"\"\"\n",
        "Reads rasters between `start_date` and `end_date`\n",
        "and returns cropped datacubes for radiance and cloud-free observations.\n",
        "\"\"\"\n",
        "function read_region_as_datacubes(region; start_date::Date, end_date::Date,\n",
        "    radiance_path=RADIANCE_RASTER_DIRECTORY, cf_path=CFOBS_RASTER_DIRECTORY)\n",
        "\n",
        "    # all .tif files\n",
        "    rad_all = sort(joinpath.(radiance_path, filter(f -> endswith(f, \".tif\"), readdir(radiance_path))))\n",
        "    cf_all  = sort(joinpath.(cf_path, filter(f -> endswith(f, \".tif\"), readdir(cf_path))))\n",
        "\n",
        "\n",
        "    # restrict to date window\n",
        "    rad_inwin = filter(f -> (d = file_to_date(f); start_date <= d <= end_date), rad_all)\n",
        "    cf_inwin  = filter(f -> (d = file_to_date(f); start_date <= d <= end_date), cf_all)\n",
        "\n",
        "    # sort by extracted date\n",
        "    rad_inwin = rad_inwin[sortperm(file_to_date.(rad_inwin))]\n",
        "    cf_inwin  = cf_inwin[sortperm(file_to_date.(cf_inwin))]\n",
        "\n",
        "    # build raster lists\n",
        "# build raster lists, now fully in memory\n",
        "    rad_rasters = [Rasters.read(crop(Raster(f; lazy=true), to=region)) for f in rad_inwin]\n",
        "    cf_rasters  = [Rasters.read(crop(Raster(f; lazy=true), to=region)) for f in cf_inwin]\n",
        "\n",
        "\n",
        "    # raster series with actual dates\n",
        "    rad_series = RasterSeries(rad_rasters, Ti(file_to_date.(rad_inwin)))\n",
        "    cf_series  = RasterSeries(cf_rasters,  Ti(file_to_date.(cf_inwin)))\n",
        "\n",
        "    # convert to datacubes\n",
        "    rad_datacube = Rasters.combine(rad_series, Ti)\n",
        "    cf_datacube  = Rasters.combine(cf_series, Ti)\n",
        "    return rad_datacube, cf_datacube\n",
        "end\n"
      ],
      "metadata": {
        "colab": {
          "base_uri": "https://localhost:8080/"
        },
        "outputId": "efd1e922-ecc0-4718-8b42-9afabf4a79ea",
        "id": "peionITwMwAt"
      },
      "execution_count": 16,
      "outputs": [
        {
          "output_type": "execute_result",
          "data": {
            "text/plain": [
              "read_region_as_datacubes"
            ]
          },
          "metadata": {},
          "execution_count": 16
        }
      ]
    },
    {
      "cell_type": "code",
      "source": [
        "function process_state(state_row::DataFrameRow)\n",
        "    state_name = state_row.NAME_1\n",
        "    state_geometry = state_row.geometry\n",
        "    @show state_name\n",
        "    @show state_geometry\n",
        "    radiance, cfobs = read_region_as_datacubes(state_geometry;\n",
        "        start_date=START_DATE, end_date=END_DATE,\n",
        "        radiance_path=RADIANCE_RASTER_DIRECTORY,\n",
        "        cf_path=CFOBS_RASTER_DIRECTORY)\n",
        "\n",
        "\n",
        "    print(\"file read correctly\")\n",
        "\n",
        "    radiance = clean_complete(radiance, cfobs; bgthreshold=4)\n",
        "    cfobs = nothing # Release memory\n",
        "\n",
        "    radiance = Raster(Float32.(radiance); missingval=missing)\n",
        "    radiance[radiance .> 100.0f0] .= 0.0f0 # Cap high radiance values\n",
        "    radiance = mask(radiance; with=state_geometry)\n",
        "\n",
        "    dates = Date.(dims(radiance, Ti).val)\n",
        "    num_timesteps = length(dates)\n",
        "\n",
        "    if num_timesteps == 0\n",
        "        println(\"Warning: No valid data for '$state_name' after cleaning.\")\n",
        "        return DataFrame()\n",
        "    end\n",
        "\n",
        "    agg_radiance = [sum(skipmissing(view(radiance, Ti(i)))) for i in 1:num_timesteps]\n",
        "    com = [safe_centre_of_mass(view(radiance, Ti(i)), state_name) for i in 1:num_timesteps]\n",
        "\n",
        "    return DataFrame(; dates, aggregate_radiance=agg_radiance, com, state_name)\n",
        "end"
      ],
      "metadata": {
        "colab": {
          "base_uri": "https://localhost:8080/"
        },
        "outputId": "ac48efcf-1534-41b1-d3bb-4e5d4ad3b177",
        "id": "8V56j4LqMwAu"
      },
      "execution_count": 17,
      "outputs": [
        {
          "output_type": "execute_result",
          "data": {
            "text/plain": [
              "process_state (generic function with 1 method)"
            ]
          },
          "metadata": {},
          "execution_count": 17
        }
      ]
    },
    {
      "cell_type": "markdown",
      "source": [
        "##RUSSIA"
      ],
      "metadata": {
        "id": "_ZrG9FojMwAt"
      }
    },
    {
      "cell_type": "code",
      "source": [
        "russia_state_split = read_vector(\"/content/Shedding-light-on-the-Russia-Ukraine-war/data/vector/russia_processing.geojson\")"
      ],
      "metadata": {
        "collapsed": true,
        "id": "3cBFtbHRMwAt"
      },
      "execution_count": null,
      "outputs": []
    },
    {
      "cell_type": "code",
      "source": [
        "radiance, cfobs = read_region_as_datacubes(\n",
        "    russia_state_split.geometry[1];\n",
        "    start_date=START_DATE,\n",
        "    end_date=END_DATE,\n",
        "    radiance_path=RADIANCE_RASTER_DIRECTORY,\n",
        "    cf_path=CFOBS_RASTER_DIRECTORY\n",
        ")"
      ],
      "metadata": {
        "id": "lS3ioqJmMwAu"
      },
      "execution_count": null,
      "outputs": []
    },
    {
      "cell_type": "code",
      "source": [
        "radiance, cfobs = read_region_as_datacubes(russia_state_split[1, :].geometry;\n",
        "    start_date=START_DATE, end_date=END_DATE,\n",
        "    radiance_path=RADIANCE_RASTER_DIRECTORY,\n",
        "    cf_path=CFOBS_RASTER_DIRECTORY)"
      ],
      "metadata": {
        "id": "DNrZzDCgMwAu"
      },
      "execution_count": null,
      "outputs": []
    },
    {
      "cell_type": "code",
      "source": [
        "all_states_russia = DataFrame()\n",
        "\n",
        "for i in 1:nrow(russia_state_split)\n",
        "    state_row = russia_state_split[i, :]\n",
        "    state_name = state_row.NAME_1\n",
        "    println(\"--- Processing state $i/$(nrow(russia_state_split)): $state_name ---\")\n",
        "\n",
        "    try\n",
        "        state_df = process_state(state_row)\n",
        "        if !isempty(state_df)\n",
        "            append!(all_states_russia, state_df; cols=:union)\n",
        "        end\n",
        "    catch e\n",
        "        println(\"ERROR: Failed to process state '$state_name'. Skipping. Error: $e\")\n",
        "    end\n",
        "    GC.gc()\n",
        "end\n",
        "\n",
        "println(\"--- Processing Complete ---\")\n",
        "\n",
        "# Final aggregation\n",
        "if !isempty(all_states_russia)\n",
        "    println(\"Aggregating results...\")\n",
        "    grouped = groupby(all_states_russia, :dates)\n",
        "    aggregate_df = DataFrames.combine(grouped, :aggregate_radiance => sum => :AggregateRadiance)\n",
        "    sort!(aggregate_df, :dates)\n",
        "\n",
        "    # only write once if you want\n",
        "    # CSV.write(AGGREGATE_FILE, aggregate_df)\n",
        "    println(\"Aggregation complete, DataFrame in memory.\")\n",
        "else\n",
        "    println(\"No data processed, skipping aggregation.\")\n",
        "end\n",
        "\n",
        "println(\"Script finished.\")\n"
      ],
      "metadata": {
        "id": "aOceG7L5MwAu"
      },
      "execution_count": null,
      "outputs": []
    },
    {
      "cell_type": "code",
      "source": [
        "all_states_russia"
      ],
      "metadata": {
        "id": "oJT97bGpMwAv"
      },
      "execution_count": null,
      "outputs": []
    },
    {
      "cell_type": "markdown",
      "source": [
        "##UKRAINE"
      ],
      "metadata": {
        "id": "zRi1aeaENotF"
      }
    },
    {
      "cell_type": "code",
      "source": [
        "ukraine_state = read_vector(\"/content/Shedding-light-on-the-Russia-Ukraine-war/data/vector/ukraine.geojson\")"
      ],
      "metadata": {
        "collapsed": true,
        "colab": {
          "base_uri": "https://localhost:8080/",
          "height": 652
        },
        "id": "_oogUbldNotG",
        "outputId": "a219c200-980b-461b-b0f1-5581a3fdaf35"
      },
      "execution_count": 18,
      "outputs": [
        {
          "output_type": "execute_result",
          "data": {
            "text/plain": [
              "\u001b[1m28×12 DataFrame\n",
              "\u001b[1m Row │\u001b[1m geometry        \u001b[1m NAME_1           \u001b[1m NL_NAME_1         \u001b[1m GID_0  \u001b[1m VARNAME_1 ⋯\n",
              "     │\u001b[90m Abstract…       \u001b[90m String           \u001b[90m String            \u001b[90m String \u001b[90m String    ⋯\n",
              "─────┼──────────────────────────────────────────────────────────────────────────\n",
              "   1 │ 2D Polygon       ?                 ?                  UKR     ?         ⋯\n",
              "   2 │ 2D Polygon       Cherkasy          Черкаська          UKR     Cherkas'k\n",
              "   3 │ 2D Polygon       Chernihiv         Чернігівська       UKR     Chernigov\n",
              "   4 │ 2D Polygon       Chernivtsi        Чернівецька        UKR     Chernivet\n",
              "   5 │ 2D MultiPolygon  Crimea            Крим               UKR     Crimée|Cr ⋯\n",
              "   6 │ 2D Polygon       Dnipropetrovs'k   Дніпропетро́вська   UKR     Dnipropet\n",
              "   7 │ 2D MultiPolygon  Donets'k          Доне́цька           UKR     Donetsk|D\n",
              "   8 │ 2D Polygon       Ivano-Frankivs'k  Івано-Франківська  UKR     Ivano-Fra\n",
              "   9 │ 2D Polygon       Kharkiv           Харківська         UKR     Charkow|J ⋯\n",
              "  10 │ 2D MultiPolygon  Kherson           Херсонська         UKR     Cherson|K\n",
              "  11 │ 2D Polygon       Khmel'nyts'kyy    Хмельницька        UKR     Khmelnits\n",
              "  ⋮  │        ⋮                ⋮                  ⋮            ⋮               ⋱\n",
              "  19 │ 2D Polygon       Poltava           Полтавська         UKR     NA\n",
              "  20 │ 2D Polygon       Rivne             Рівненська         UKR     Rovno|Riv ⋯\n",
              "  21 │ 2D Polygon       Sevastopol'       Севастополь        UKR     Sebastopo\n",
              "  22 │ 2D Polygon       Sumy              Сумська            UKR     NA\n",
              "  23 │ 2D Polygon       Ternopil'         Тернопільська      UKR     Ternopol|\n",
              "  24 │ 2D Polygon       Vinnytsya         Вінницька          UKR     Vinnytsia ⋯\n",
              "  25 │ 2D Polygon       Volyn             Волинська          UKR     Volhynia|\n",
              "  26 │ 2D Polygon       Zakarpattia       Закарпатська       UKR     Transcarp\n",
              "  27 │ 2D MultiPolygon  Zaporizhia        Запорізька         UKR     Zaporizhz\n",
              "  28 │ 2D Polygon       Zhytomyr          Житомирська        UKR     Zhitomir| ⋯\n",
              "\u001b[36m                                                    8 columns and 7 rows omitted"
            ],
            "text/html": [
              "<div><div style = \"float: left;\"><span>28×12 DataFrame</span></div><div style = \"float: right;\"><span style = \"font-style: italic;\">3 rows omitted</span></div><div style = \"clear: both;\"></div></div><div class = \"data-frame\" style = \"overflow-x: scroll;\"><table class = \"data-frame\" style = \"margin-bottom: 6px;\"><thead><tr class = \"header\"><th class = \"rowNumber\" style = \"font-weight: bold; text-align: right;\">Row</th><th style = \"text-align: left;\">geometry</th><th style = \"text-align: left;\">NAME_1</th><th style = \"text-align: left;\">NL_NAME_1</th><th style = \"text-align: left;\">GID_0</th><th style = \"text-align: left;\">VARNAME_1</th><th style = \"text-align: left;\">HASC_1</th><th style = \"text-align: left;\">ISO_1</th><th style = \"text-align: left;\">TYPE_1</th><th style = \"text-align: left;\">GID_1</th><th style = \"text-align: left;\">COUNTRY</th><th style = \"text-align: left;\">CC_1</th><th style = \"text-align: left;\">ENGTYPE_1</th></tr><tr class = \"subheader headerLastRow\"><th class = \"rowNumber\" style = \"font-weight: bold; text-align: right;\"></th><th title = \"GeoJSON.AbstractGeometry{2, Float32}\" style = \"text-align: left;\">Abstract…</th><th title = \"String\" style = \"text-align: left;\">String</th><th title = \"String\" style = \"text-align: left;\">String</th><th title = \"String\" style = \"text-align: left;\">String</th><th title = \"String\" style = \"text-align: left;\">String</th><th title = \"String\" style = \"text-align: left;\">String</th><th title = \"String\" style = \"text-align: left;\">String</th><th title = \"String\" style = \"text-align: left;\">String</th><th title = \"String\" style = \"text-align: left;\">String</th><th title = \"String\" style = \"text-align: left;\">String</th><th title = \"String\" style = \"text-align: left;\">String</th><th title = \"String\" style = \"text-align: left;\">String</th></tr></thead><tbody><tr><td class = \"rowNumber\" style = \"font-weight: bold; text-align: right;\">1</td><td style = \"text-align: left;\">2D Polygon</td><td style = \"text-align: left;\">?</td><td style = \"text-align: left;\">?</td><td style = \"text-align: left;\">UKR</td><td style = \"text-align: left;\">?</td><td style = \"text-align: left;\">?</td><td style = \"text-align: left;\">NA</td><td style = \"text-align: left;\">?</td><td style = \"text-align: left;\">?</td><td style = \"text-align: left;\">Ukraine</td><td style = \"text-align: left;\">NA</td><td style = \"text-align: left;\">?</td></tr><tr><td class = \"rowNumber\" style = \"font-weight: bold; text-align: right;\">2</td><td style = \"text-align: left;\">2D Polygon</td><td style = \"text-align: left;\">Cherkasy</td><td style = \"text-align: left;\">Черкаська</td><td style = \"text-align: left;\">UKR</td><td style = \"text-align: left;\">Cherkas&apos;ka Oblast&apos;|Cherkasskaya</td><td style = \"text-align: left;\">UA.CK</td><td style = \"text-align: left;\">NA</td><td style = \"text-align: left;\">Oblast&apos;</td><td style = \"text-align: left;\">UKR.1_1</td><td style = \"text-align: left;\">Ukraine</td><td style = \"text-align: left;\">NA</td><td style = \"text-align: left;\">Region</td></tr><tr><td class = \"rowNumber\" style = \"font-weight: bold; text-align: right;\">3</td><td style = \"text-align: left;\">2D Polygon</td><td style = \"text-align: left;\">Chernihiv</td><td style = \"text-align: left;\">Чернігівська</td><td style = \"text-align: left;\">UKR</td><td style = \"text-align: left;\">Chernigov|Tschernigow</td><td style = \"text-align: left;\">UA.CH</td><td style = \"text-align: left;\">NA</td><td style = \"text-align: left;\">Oblast&apos;</td><td style = \"text-align: left;\">UKR.2_1</td><td style = \"text-align: left;\">Ukraine</td><td style = \"text-align: left;\">NA</td><td style = \"text-align: left;\">Region</td></tr><tr><td class = \"rowNumber\" style = \"font-weight: bold; text-align: right;\">4</td><td style = \"text-align: left;\">2D Polygon</td><td style = \"text-align: left;\">Chernivtsi</td><td style = \"text-align: left;\">Чернівецька</td><td style = \"text-align: left;\">UKR</td><td style = \"text-align: left;\">Chernivets&apos;ka Oblast&apos;|Chernovits</td><td style = \"text-align: left;\">UA.CV</td><td style = \"text-align: left;\">NA</td><td style = \"text-align: left;\">Oblast&apos;</td><td style = \"text-align: left;\">UKR.3_1</td><td style = \"text-align: left;\">Ukraine</td><td style = \"text-align: left;\">NA</td><td style = \"text-align: left;\">Region</td></tr><tr><td class = \"rowNumber\" style = \"font-weight: bold; text-align: right;\">5</td><td style = \"text-align: left;\">2D MultiPolygon</td><td style = \"text-align: left;\">Crimea</td><td style = \"text-align: left;\">Крим</td><td style = \"text-align: left;\">UKR</td><td style = \"text-align: left;\">Crimée|Criméia|Krim|Krymskaya Re</td><td style = \"text-align: left;\">UA.KR</td><td style = \"text-align: left;\">NA</td><td style = \"text-align: left;\">Autonomous Republic</td><td style = \"text-align: left;\">UKR.4_1</td><td style = \"text-align: left;\">Ukraine</td><td style = \"text-align: left;\">NA</td><td style = \"text-align: left;\">Autonomous Republic</td></tr><tr><td class = \"rowNumber\" style = \"font-weight: bold; text-align: right;\">6</td><td style = \"text-align: left;\">2D Polygon</td><td style = \"text-align: left;\">Dnipropetrovs&apos;k</td><td style = \"text-align: left;\">Дніпропетро́вська</td><td style = \"text-align: left;\">UKR</td><td style = \"text-align: left;\">Dnipropetrovsk|Dniepropietrovsk|</td><td style = \"text-align: left;\">UA.DP</td><td style = \"text-align: left;\">NA</td><td style = \"text-align: left;\">Oblast&apos;</td><td style = \"text-align: left;\">UKR.5_1</td><td style = \"text-align: left;\">Ukraine</td><td style = \"text-align: left;\">NA</td><td style = \"text-align: left;\">Region</td></tr><tr><td class = \"rowNumber\" style = \"font-weight: bold; text-align: right;\">7</td><td style = \"text-align: left;\">2D MultiPolygon</td><td style = \"text-align: left;\">Donets&apos;k</td><td style = \"text-align: left;\">Доне́цька</td><td style = \"text-align: left;\">UKR</td><td style = \"text-align: left;\">Donetsk|Donetskaya Oblast&apos;|Donez</td><td style = \"text-align: left;\">UA.DT</td><td style = \"text-align: left;\">NA</td><td style = \"text-align: left;\">Oblast&apos;</td><td style = \"text-align: left;\">UKR.6_1</td><td style = \"text-align: left;\">Ukraine</td><td style = \"text-align: left;\">NA</td><td style = \"text-align: left;\">Region</td></tr><tr><td class = \"rowNumber\" style = \"font-weight: bold; text-align: right;\">8</td><td style = \"text-align: left;\">2D Polygon</td><td style = \"text-align: left;\">Ivano-Frankivs&apos;k</td><td style = \"text-align: left;\">Івано-Франківська</td><td style = \"text-align: left;\">UKR</td><td style = \"text-align: left;\">Ivano-Frankovsk|Ivano-Frankovska</td><td style = \"text-align: left;\">UA.IF</td><td style = \"text-align: left;\">NA</td><td style = \"text-align: left;\">Oblast&apos;</td><td style = \"text-align: left;\">UKR.7_1</td><td style = \"text-align: left;\">Ukraine</td><td style = \"text-align: left;\">NA</td><td style = \"text-align: left;\">Region</td></tr><tr><td class = \"rowNumber\" style = \"font-weight: bold; text-align: right;\">9</td><td style = \"text-align: left;\">2D Polygon</td><td style = \"text-align: left;\">Kharkiv</td><td style = \"text-align: left;\">Харківська</td><td style = \"text-align: left;\">UKR</td><td style = \"text-align: left;\">Charkow|Jarkov|Karkov|Khar&apos;kov</td><td style = \"text-align: left;\">UA.KK</td><td style = \"text-align: left;\">NA</td><td style = \"text-align: left;\">Oblast&apos;</td><td style = \"text-align: left;\">UKR.8_1</td><td style = \"text-align: left;\">Ukraine</td><td style = \"text-align: left;\">NA</td><td style = \"text-align: left;\">Region</td></tr><tr><td class = \"rowNumber\" style = \"font-weight: bold; text-align: right;\">10</td><td style = \"text-align: left;\">2D MultiPolygon</td><td style = \"text-align: left;\">Kherson</td><td style = \"text-align: left;\">Херсонська</td><td style = \"text-align: left;\">UKR</td><td style = \"text-align: left;\">Cherson|Khersons&apos;ka Oblast&apos;</td><td style = \"text-align: left;\">UA.KS</td><td style = \"text-align: left;\">NA</td><td style = \"text-align: left;\">Oblast&apos;</td><td style = \"text-align: left;\">UKR.9_1</td><td style = \"text-align: left;\">Ukraine</td><td style = \"text-align: left;\">NA</td><td style = \"text-align: left;\">Region</td></tr><tr><td class = \"rowNumber\" style = \"font-weight: bold; text-align: right;\">11</td><td style = \"text-align: left;\">2D Polygon</td><td style = \"text-align: left;\">Khmel&apos;nyts&apos;kyy</td><td style = \"text-align: left;\">Хмельницька</td><td style = \"text-align: left;\">UKR</td><td style = \"text-align: left;\">Khmelnitsky|Khmelnytskyi|Chmelni</td><td style = \"text-align: left;\">UA.KM</td><td style = \"text-align: left;\">NA</td><td style = \"text-align: left;\">Oblast&apos;</td><td style = \"text-align: left;\">UKR.10_1</td><td style = \"text-align: left;\">Ukraine</td><td style = \"text-align: left;\">NA</td><td style = \"text-align: left;\">Region</td></tr><tr><td class = \"rowNumber\" style = \"font-weight: bold; text-align: right;\">12</td><td style = \"text-align: left;\">2D Polygon</td><td style = \"text-align: left;\">Kiev</td><td style = \"text-align: left;\">Київська</td><td style = \"text-align: left;\">UKR</td><td style = \"text-align: left;\">Kiev Oblast|Kiew|Kijew|Kiiv|Kije</td><td style = \"text-align: left;\">UA.KV</td><td style = \"text-align: left;\">NA</td><td style = \"text-align: left;\">Oblast&apos;</td><td style = \"text-align: left;\">UKR.12_1</td><td style = \"text-align: left;\">Ukraine</td><td style = \"text-align: left;\">NA</td><td style = \"text-align: left;\">Region</td></tr><tr><td class = \"rowNumber\" style = \"font-weight: bold; text-align: right;\">13</td><td style = \"text-align: left;\">2D Polygon</td><td style = \"text-align: left;\">Kiev City</td><td style = \"text-align: left;\">Київ</td><td style = \"text-align: left;\">UKR</td><td style = \"text-align: left;\">Kyiv</td><td style = \"text-align: left;\">UA.KC</td><td style = \"text-align: left;\">NA</td><td style = \"text-align: left;\">Independent City</td><td style = \"text-align: left;\">UKR.11_1</td><td style = \"text-align: left;\">Ukraine</td><td style = \"text-align: left;\">NA</td><td style = \"text-align: left;\">Independent City</td></tr><tr><td style = \"text-align: right;\">&vellip;</td><td style = \"text-align: right;\">&vellip;</td><td style = \"text-align: right;\">&vellip;</td><td style = \"text-align: right;\">&vellip;</td><td style = \"text-align: right;\">&vellip;</td><td style = \"text-align: right;\">&vellip;</td><td style = \"text-align: right;\">&vellip;</td><td style = \"text-align: right;\">&vellip;</td><td style = \"text-align: right;\">&vellip;</td><td style = \"text-align: right;\">&vellip;</td><td style = \"text-align: right;\">&vellip;</td><td style = \"text-align: right;\">&vellip;</td><td style = \"text-align: right;\">&vellip;</td></tr><tr><td class = \"rowNumber\" style = \"font-weight: bold; text-align: right;\">17</td><td style = \"text-align: left;\">2D MultiPolygon</td><td style = \"text-align: left;\">Mykolayiv</td><td style = \"text-align: left;\">Миколаївська</td><td style = \"text-align: left;\">UKR</td><td style = \"text-align: left;\">Mykolaiv|Nikolajew|Nikolayev</td><td style = \"text-align: left;\">UA.MY</td><td style = \"text-align: left;\">NA</td><td style = \"text-align: left;\">Oblast&apos;</td><td style = \"text-align: left;\">UKR.16_1</td><td style = \"text-align: left;\">Ukraine</td><td style = \"text-align: left;\">NA</td><td style = \"text-align: left;\">Region</td></tr><tr><td class = \"rowNumber\" style = \"font-weight: bold; text-align: right;\">18</td><td style = \"text-align: left;\">2D MultiPolygon</td><td style = \"text-align: left;\">Odessa</td><td style = \"text-align: left;\">Одеська</td><td style = \"text-align: left;\">UKR</td><td style = \"text-align: left;\">Odesa|Odes&apos;ka Oblast&apos;|Odesskaya</td><td style = \"text-align: left;\">UA.OD</td><td style = \"text-align: left;\">NA</td><td style = \"text-align: left;\">Oblast&apos;</td><td style = \"text-align: left;\">UKR.17_1</td><td style = \"text-align: left;\">Ukraine</td><td style = \"text-align: left;\">NA</td><td style = \"text-align: left;\">Region</td></tr><tr><td class = \"rowNumber\" style = \"font-weight: bold; text-align: right;\">19</td><td style = \"text-align: left;\">2D Polygon</td><td style = \"text-align: left;\">Poltava</td><td style = \"text-align: left;\">Полтавська</td><td style = \"text-align: left;\">UKR</td><td style = \"text-align: left;\">NA</td><td style = \"text-align: left;\">UA.PL</td><td style = \"text-align: left;\">NA</td><td style = \"text-align: left;\">Oblast&apos;</td><td style = \"text-align: left;\">UKR.18_1</td><td style = \"text-align: left;\">Ukraine</td><td style = \"text-align: left;\">NA</td><td style = \"text-align: left;\">Region</td></tr><tr><td class = \"rowNumber\" style = \"font-weight: bold; text-align: right;\">20</td><td style = \"text-align: left;\">2D Polygon</td><td style = \"text-align: left;\">Rivne</td><td style = \"text-align: left;\">Рівненська</td><td style = \"text-align: left;\">UKR</td><td style = \"text-align: left;\">Rovno|Rivnens&apos;ka Oblast&apos;|Rovensk</td><td style = \"text-align: left;\">UA.RV</td><td style = \"text-align: left;\">NA</td><td style = \"text-align: left;\">Oblast&apos;</td><td style = \"text-align: left;\">UKR.19_1</td><td style = \"text-align: left;\">Ukraine</td><td style = \"text-align: left;\">NA</td><td style = \"text-align: left;\">Region</td></tr><tr><td class = \"rowNumber\" style = \"font-weight: bold; text-align: right;\">21</td><td style = \"text-align: left;\">2D Polygon</td><td style = \"text-align: left;\">Sevastopol&apos;</td><td style = \"text-align: left;\">Севастополь</td><td style = \"text-align: left;\">UKR</td><td style = \"text-align: left;\">Sebastopol|Aqyar</td><td style = \"text-align: left;\">UA.SC</td><td style = \"text-align: left;\">NA</td><td style = \"text-align: left;\">Autonomous Republic</td><td style = \"text-align: left;\">UKR.20_1</td><td style = \"text-align: left;\">Ukraine</td><td style = \"text-align: left;\">NA</td><td style = \"text-align: left;\">Autonomous Republic</td></tr><tr><td class = \"rowNumber\" style = \"font-weight: bold; text-align: right;\">22</td><td style = \"text-align: left;\">2D Polygon</td><td style = \"text-align: left;\">Sumy</td><td style = \"text-align: left;\">Сумська</td><td style = \"text-align: left;\">UKR</td><td style = \"text-align: left;\">NA</td><td style = \"text-align: left;\">UA.SM</td><td style = \"text-align: left;\">NA</td><td style = \"text-align: left;\">Oblast&apos;</td><td style = \"text-align: left;\">UKR.21_1</td><td style = \"text-align: left;\">Ukraine</td><td style = \"text-align: left;\">NA</td><td style = \"text-align: left;\">Region</td></tr><tr><td class = \"rowNumber\" style = \"font-weight: bold; text-align: right;\">23</td><td style = \"text-align: left;\">2D Polygon</td><td style = \"text-align: left;\">Ternopil&apos;</td><td style = \"text-align: left;\">Тернопільська</td><td style = \"text-align: left;\">UKR</td><td style = \"text-align: left;\">Ternopol|Ternopol&apos;</td><td style = \"text-align: left;\">UA.TP</td><td style = \"text-align: left;\">NA</td><td style = \"text-align: left;\">Oblast&apos;</td><td style = \"text-align: left;\">UKR.22_1</td><td style = \"text-align: left;\">Ukraine</td><td style = \"text-align: left;\">NA</td><td style = \"text-align: left;\">Region</td></tr><tr><td class = \"rowNumber\" style = \"font-weight: bold; text-align: right;\">24</td><td style = \"text-align: left;\">2D Polygon</td><td style = \"text-align: left;\">Vinnytsya</td><td style = \"text-align: left;\">Вінницька</td><td style = \"text-align: left;\">UKR</td><td style = \"text-align: left;\">Vinnytsia|Vinnitskaya Oblast&apos;|Vi</td><td style = \"text-align: left;\">UA.VI</td><td style = \"text-align: left;\">NA</td><td style = \"text-align: left;\">Oblast&apos;</td><td style = \"text-align: left;\">UKR.24_1</td><td style = \"text-align: left;\">Ukraine</td><td style = \"text-align: left;\">NA</td><td style = \"text-align: left;\">Region</td></tr><tr><td class = \"rowNumber\" style = \"font-weight: bold; text-align: right;\">25</td><td style = \"text-align: left;\">2D Polygon</td><td style = \"text-align: left;\">Volyn</td><td style = \"text-align: left;\">Волинська</td><td style = \"text-align: left;\">UKR</td><td style = \"text-align: left;\">Volhynia|Volyns&apos;ka Oblast&apos;|Volyn</td><td style = \"text-align: left;\">UA.VO</td><td style = \"text-align: left;\">NA</td><td style = \"text-align: left;\">Oblast&apos;</td><td style = \"text-align: left;\">UKR.25_1</td><td style = \"text-align: left;\">Ukraine</td><td style = \"text-align: left;\">NA</td><td style = \"text-align: left;\">Region</td></tr><tr><td class = \"rowNumber\" style = \"font-weight: bold; text-align: right;\">26</td><td style = \"text-align: left;\">2D Polygon</td><td style = \"text-align: left;\">Zakarpattia</td><td style = \"text-align: left;\">Закарпатська</td><td style = \"text-align: left;\">UKR</td><td style = \"text-align: left;\">Transcarpathia|Ruthenia|Zakarpat</td><td style = \"text-align: left;\">UA.ZK</td><td style = \"text-align: left;\">NA</td><td style = \"text-align: left;\">Oblast&apos;</td><td style = \"text-align: left;\">UKR.23_1</td><td style = \"text-align: left;\">Ukraine</td><td style = \"text-align: left;\">NA</td><td style = \"text-align: left;\">Region</td></tr><tr><td class = \"rowNumber\" style = \"font-weight: bold; text-align: right;\">27</td><td style = \"text-align: left;\">2D MultiPolygon</td><td style = \"text-align: left;\">Zaporizhia</td><td style = \"text-align: left;\">Запорізька</td><td style = \"text-align: left;\">UKR</td><td style = \"text-align: left;\">Zaporizhzhya|Saporoshje|Zaporizh</td><td style = \"text-align: left;\">UA.ZP</td><td style = \"text-align: left;\">NA</td><td style = \"text-align: left;\">Oblast&apos;</td><td style = \"text-align: left;\">UKR.26_1</td><td style = \"text-align: left;\">Ukraine</td><td style = \"text-align: left;\">NA</td><td style = \"text-align: left;\">Region</td></tr><tr><td class = \"rowNumber\" style = \"font-weight: bold; text-align: right;\">28</td><td style = \"text-align: left;\">2D Polygon</td><td style = \"text-align: left;\">Zhytomyr</td><td style = \"text-align: left;\">Житомирська</td><td style = \"text-align: left;\">UKR</td><td style = \"text-align: left;\">Zhitomir|Jitomir|Shitomir|Zhitom</td><td style = \"text-align: left;\">UA.ZT</td><td style = \"text-align: left;\">NA</td><td style = \"text-align: left;\">Oblast&apos;</td><td style = \"text-align: left;\">UKR.27_1</td><td style = \"text-align: left;\">Ukraine</td><td style = \"text-align: left;\">NA</td><td style = \"text-align: left;\">Region</td></tr></tbody></table></div>"
            ],
            "text/latex": "\\begin{tabular}{r|cccccc}\n\t& geometry & NAME\\_1 & NL\\_NAME\\_1 & GID\\_0 & VARNAME\\_1 & \\\\\n\t\\hline\n\t& Abstract… & String & String & String & String & \\\\\n\t\\hline\n\t1 & 2D Polygon & ? & ? & UKR & ? & $\\dots$ \\\\\n\t2 & 2D Polygon & Cherkasy & Черкаська & UKR & Cherkas'ka Oblast'|Cherkasskaya & $\\dots$ \\\\\n\t3 & 2D Polygon & Chernihiv & Чернігівська & UKR & Chernigov|Tschernigow & $\\dots$ \\\\\n\t4 & 2D Polygon & Chernivtsi & Чернівецька & UKR & Chernivets'ka Oblast'|Chernovits & $\\dots$ \\\\\n\t5 & 2D MultiPolygon & Crimea & Крим & UKR & Crimée|Criméia|Krim|Krymskaya Re & $\\dots$ \\\\\n\t6 & 2D Polygon & Dnipropetrovs'k & Дніпропетро́вська & UKR & Dnipropetrovsk|Dniepropietrovsk| & $\\dots$ \\\\\n\t7 & 2D MultiPolygon & Donets'k & Доне́цька & UKR & Donetsk|Donetskaya Oblast'|Donez & $\\dots$ \\\\\n\t8 & 2D Polygon & Ivano-Frankivs'k & Івано-Франківська & UKR & Ivano-Frankovsk|Ivano-Frankovska & $\\dots$ \\\\\n\t9 & 2D Polygon & Kharkiv & Харківська & UKR & Charkow|Jarkov|Karkov|Khar'kov & $\\dots$ \\\\\n\t10 & 2D MultiPolygon & Kherson & Херсонська & UKR & Cherson|Khersons'ka Oblast' & $\\dots$ \\\\\n\t11 & 2D Polygon & Khmel'nyts'kyy & Хмельницька & UKR & Khmelnitsky|Khmelnytskyi|Chmelni & $\\dots$ \\\\\n\t12 & 2D Polygon & Kiev & Київська & UKR & Kiev Oblast|Kiew|Kijew|Kiiv|Kije & $\\dots$ \\\\\n\t13 & 2D Polygon & Kiev City & Київ & UKR & Kyiv & $\\dots$ \\\\\n\t14 & 2D Polygon & Kirovohrad & Кіровоградська & UKR & Kirovograd|Kirovogradskaya Oblas & $\\dots$ \\\\\n\t15 & 2D MultiPolygon & L'viv & NA & UKR & Lemberg|Llvov|L'vov|Lwow|L'vivs' & $\\dots$ \\\\\n\t16 & 2D Polygon & Luhans'k & Луганська & UKR & Luhansk|Lugansk|Luhans'ka Oblast & $\\dots$ \\\\\n\t17 & 2D MultiPolygon & Mykolayiv & Миколаївська & UKR & Mykolaiv|Nikolajew|Nikolayev & $\\dots$ \\\\\n\t18 & 2D MultiPolygon & Odessa & Одеська & UKR & Odesa|Odes'ka Oblast'|Odesskaya & $\\dots$ \\\\\n\t19 & 2D Polygon & Poltava & Полтавська & UKR & NA & $\\dots$ \\\\\n\t20 & 2D Polygon & Rivne & Рівненська & UKR & Rovno|Rivnens'ka Oblast'|Rovensk & $\\dots$ \\\\\n\t21 & 2D Polygon & Sevastopol' & Севастополь & UKR & Sebastopol|Aqyar & $\\dots$ \\\\\n\t22 & 2D Polygon & Sumy & Сумська & UKR & NA & $\\dots$ \\\\\n\t23 & 2D Polygon & Ternopil' & Тернопільська & UKR & Ternopol|Ternopol' & $\\dots$ \\\\\n\t24 & 2D Polygon & Vinnytsya & Вінницька & UKR & Vinnytsia|Vinnitskaya Oblast'|Vi & $\\dots$ \\\\\n\t25 & 2D Polygon & Volyn & Волинська & UKR & Volhynia|Volyns'ka Oblast'|Volyn & $\\dots$ \\\\\n\t26 & 2D Polygon & Zakarpattia & Закарпатська & UKR & Transcarpathia|Ruthenia|Zakarpat & $\\dots$ \\\\\n\t27 & 2D MultiPolygon & Zaporizhia & Запорізька & UKR & Zaporizhzhya|Saporoshje|Zaporizh & $\\dots$ \\\\\n\t28 & 2D Polygon & Zhytomyr & Житомирська & UKR & Zhitomir|Jitomir|Shitomir|Zhitom & $\\dots$ \\\\\n\\end{tabular}\n"
          },
          "metadata": {},
          "execution_count": 18
        }
      ]
    },
    {
      "cell_type": "code",
      "source": [
        "radiance, cfobs = read_region_as_datacubes(\n",
        "    ukraine_state.geometry[1];\n",
        "    start_date=START_DATE,\n",
        "    end_date=END_DATE,\n",
        "    radiance_path=RADIANCE_RASTER_DIRECTORY,\n",
        "    cf_path=CFOBS_RASTER_DIRECTORY\n",
        ")"
      ],
      "metadata": {
        "colab": {
          "base_uri": "https://localhost:8080/",
          "height": 801
        },
        "id": "vCX7k0-GNotG",
        "outputId": "787b221e-0d69-426f-e738-eb2ee711c643"
      },
      "execution_count": 23,
      "outputs": [
        {
          "output_type": "error",
          "ename": "LoadError",
          "evalue": "GDALError (CE_Failure, code 10):\n\tPointer 'hDS' is NULL in 'GDALGetRasterCount'.\n\n",
          "traceback": [
            "GDALError (CE_Failure, code 10):\n\tPointer 'hDS' is NULL in 'GDALGetRasterCount'.\n\n",
            "",
            "Stacktrace:",
            "  [1] \u001b[0m\u001b[1mmaybe_throw\u001b[22m\u001b[0m\u001b[1m(\u001b[22m\u001b[0m\u001b[1m)\u001b[22m",
            "\u001b[90m    @\u001b[39m \u001b[35mGDAL\u001b[39m \u001b[90m~/.julia/packages/GDAL/LSxoz/src/\u001b[39m\u001b[90m\u001b[4merror.jl:42\u001b[24m\u001b[39m",
            "  [2] \u001b[0m\u001b[1maftercare\u001b[22m",
            "\u001b[90m    @\u001b[39m \u001b[90m~/.julia/packages/GDAL/LSxoz/src/\u001b[39m\u001b[90m\u001b[4merror.jl:59\u001b[24m\u001b[39m\u001b[90m [inlined]\u001b[39m",
            "  [3] \u001b[0m\u001b[1mgdalgetrastercount\u001b[22m",
            "\u001b[90m    @\u001b[39m \u001b[90m~/.julia/packages/GDAL/LSxoz/src/\u001b[39m\u001b[90m\u001b[4mlibgdal.jl:8160\u001b[24m\u001b[39m\u001b[90m [inlined]\u001b[39m",
            "  [4] \u001b[0m\u001b[1mnraster\u001b[22m",
            "\u001b[90m    @\u001b[39m \u001b[90m~/.julia/packages/ArchGDAL/ujstt/src/\u001b[39m\u001b[90m\u001b[4mdataset.jl:662\u001b[24m\u001b[39m\u001b[90m [inlined]\u001b[39m",
            "  [5] \u001b[0m\u001b[1mpixeltype\u001b[22m\u001b[0m\u001b[1m(\u001b[22m\u001b[90mds\u001b[39m::\u001b[0mArchGDAL.Dataset\u001b[0m\u001b[1m)\u001b[22m",
            "\u001b[90m    @\u001b[39m \u001b[36mArchGDAL\u001b[39m \u001b[90m~/.julia/packages/ArchGDAL/ujstt/src/\u001b[39m\u001b[90m\u001b[4mdataset.jl:1029\u001b[24m\u001b[39m",
            "  [6] \u001b[0m\u001b[1mArchGDAL.RasterDataset\u001b[22m\u001b[0m\u001b[1m(\u001b[22m\u001b[90mds\u001b[39m::\u001b[0mArchGDAL.Dataset\u001b[0m\u001b[1m)\u001b[22m",
            "\u001b[90m    @\u001b[39m \u001b[36mArchGDAL\u001b[39m \u001b[90m~/.julia/packages/ArchGDAL/ujstt/src/raster/\u001b[39m\u001b[90m\u001b[4marray.jl:32\u001b[24m\u001b[39m",
            "  [7] \u001b[0m\u001b[1munsafe_readraster\u001b[22m",
            "\u001b[90m    @\u001b[39m \u001b[90m~/.julia/packages/ArchGDAL/ujstt/src/raster/\u001b[39m\u001b[90m\u001b[4marray.jl:127\u001b[24m\u001b[39m\u001b[90m [inlined]\u001b[39m",
            "  [8] \u001b[0m\u001b[1mreadraster\u001b[22m\u001b[0m\u001b[1m(\u001b[22m\u001b[90mf\u001b[39m::\u001b[0mComposedFunction\u001b[90m{typeof(Rasters.cleanreturn), Rasters.var\"#50#51\"{Rasters.GDALsource, @Kwargs{lazy::Bool}, String}}\u001b[39m, \u001b[90margs\u001b[39m::\u001b[0mString; \u001b[90mkwargs\u001b[39m::\u001b[0m@Kwargs\u001b[90m{}\u001b[39m\u001b[0m\u001b[1m)\u001b[22m",
            "\u001b[90m    @\u001b[39m \u001b[36mArchGDAL\u001b[39m \u001b[90m~/.julia/packages/ArchGDAL/ujstt/src/\u001b[39m\u001b[90m\u001b[4mcontext.jl:266\u001b[24m\u001b[39m",
            "  [9] \u001b[0m\u001b[1mreadraster\u001b[22m\u001b[0m\u001b[1m(\u001b[22m\u001b[90mf\u001b[39m::\u001b[0mFunction, \u001b[90margs\u001b[39m::\u001b[0mString\u001b[0m\u001b[1m)\u001b[22m",
            "\u001b[90m    @\u001b[39m \u001b[36mArchGDAL\u001b[39m \u001b[90m~/.julia/packages/ArchGDAL/ujstt/src/\u001b[39m\u001b[90m\u001b[4mcontext.jl:265\u001b[24m\u001b[39m",
            " [10] \u001b[0m\u001b[1m_open\u001b[22m\u001b[0m\u001b[1m(\u001b[22m\u001b[90mf\u001b[39m::\u001b[0mFunction, ::\u001b[0mRasters.GDALsource, \u001b[90mfilename\u001b[39m::\u001b[0mString; \u001b[90mwrite\u001b[39m::\u001b[0mBool, \u001b[90mkw\u001b[39m::\u001b[0m@Kwargs\u001b[90m{}\u001b[39m\u001b[0m\u001b[1m)\u001b[22m",
            "\u001b[90m    @\u001b[39m \u001b[32mRastersArchGDALExt\u001b[39m \u001b[90m~/.julia/packages/Rasters/0kAkQ/ext/RastersArchGDALExt/\u001b[39m\u001b[90m\u001b[4mgdal_source.jl:114\u001b[24m\u001b[39m",
            " [11] \u001b[0m\u001b[1m_open\u001b[22m",
            "\u001b[90m    @\u001b[39m \u001b[90m~/.julia/packages/Rasters/0kAkQ/ext/RastersArchGDALExt/\u001b[39m\u001b[90m\u001b[4mgdal_source.jl:90\u001b[24m\u001b[39m\u001b[90m [inlined]\u001b[39m",
            " [12] \u001b[0m\u001b[1m#_open#14\u001b[22m",
            "\u001b[90m    @\u001b[39m \u001b[90m~/.julia/packages/Rasters/0kAkQ/src/sources/\u001b[39m\u001b[90m\u001b[4msources.jl:83\u001b[24m\u001b[39m\u001b[90m [inlined]\u001b[39m",
            " [13] \u001b[0m\u001b[1mRaster\u001b[22m\u001b[0m\u001b[1m(\u001b[22m\u001b[90mfilename\u001b[39m::\u001b[0mString; \u001b[90msource\u001b[39m::\u001b[0mRasters.NoKW, \u001b[90mkw\u001b[39m::\u001b[0m@Kwargs\u001b[90m{lazy::Bool}\u001b[39m\u001b[0m\u001b[1m)\u001b[22m",
            "\u001b[90m    @\u001b[39m \u001b[33mRasters\u001b[39m \u001b[90m~/.julia/packages/Rasters/0kAkQ/src/\u001b[39m\u001b[90m\u001b[4marray.jl:304\u001b[24m\u001b[39m",
            " [14] \u001b[0m\u001b[1mRaster\u001b[22m",
            "\u001b[90m    @\u001b[39m \u001b[90m~/.julia/packages/Rasters/0kAkQ/src/\u001b[39m\u001b[90m\u001b[4marray.jl:299\u001b[24m\u001b[39m\u001b[90m [inlined]\u001b[39m",
            " [15] \u001b[0m\u001b[1m(::var\"#14#20\"{GeoJSON.Polygon{2, Float32}})\u001b[22m\u001b[0m\u001b[1m(\u001b[22m\u001b[90mf\u001b[39m::\u001b[0mString\u001b[0m\u001b[1m)\u001b[22m",
            "\u001b[90m    @\u001b[39m \u001b[35mMain\u001b[39m \u001b[90m./\u001b[39m\u001b[90m\u001b[4mnone:0\u001b[24m\u001b[39m",
            " [16] \u001b[0m\u001b[1miterate\u001b[22m",
            "\u001b[90m    @\u001b[39m \u001b[90m./\u001b[39m\u001b[90m\u001b[4mgenerator.jl:48\u001b[24m\u001b[39m\u001b[90m [inlined]\u001b[39m",
            " [17] \u001b[0m\u001b[1mcollect\u001b[22m\u001b[0m\u001b[1m(\u001b[22m\u001b[90mitr\u001b[39m::\u001b[0mBase.Generator\u001b[90m{Vector{String}, var\"#14#20\"{GeoJSON.Polygon{2, Float32}}}\u001b[39m\u001b[0m\u001b[1m)\u001b[22m",
            "\u001b[90m    @\u001b[39m \u001b[90mBase\u001b[39m \u001b[90m./\u001b[39m\u001b[90m\u001b[4marray.jl:791\u001b[24m\u001b[39m",
            " [18] \u001b[0m\u001b[1mread_region_as_datacubes\u001b[22m\u001b[0m\u001b[1m(\u001b[22m\u001b[90mregion\u001b[39m::\u001b[0mGeoJSON.Polygon\u001b[90m{2, Float32}\u001b[39m; \u001b[90mstart_date\u001b[39m::\u001b[0mDate, \u001b[90mend_date\u001b[39m::\u001b[0mDate, \u001b[90mradiance_path\u001b[39m::\u001b[0mString, \u001b[90mcf_path\u001b[39m::\u001b[0mString\u001b[0m\u001b[1m)\u001b[22m",
            "\u001b[90m    @\u001b[39m \u001b[35mMain\u001b[39m \u001b[90m./\u001b[39m\u001b[90m\u001b[4mIn[16]:42\u001b[24m\u001b[39m",
            " [19] top-level scope",
            "\u001b[90m    @\u001b[39m \u001b[90m\u001b[4mIn[23]:1\u001b[24m\u001b[39m"
          ]
        }
      ]
    },
    {
      "cell_type": "code",
      "source": [
        "radiance, cfobs = read_region_as_datacubes(ukraine_state[1, :].geometry;\n",
        "    start_date=START_DATE, end_date=END_DATE,\n",
        "    radiance_path=RADIANCE_RASTER_DIRECTORY,\n",
        "    cf_path=CFOBS_RASTER_DIRECTORY)"
      ],
      "metadata": {
        "colab": {
          "base_uri": "https://localhost:8080/",
          "height": 801
        },
        "id": "HFYnObJ2NotH",
        "outputId": "33598bd0-b21d-4e7a-a03e-9943e902f368"
      },
      "execution_count": 24,
      "outputs": [
        {
          "output_type": "error",
          "ename": "LoadError",
          "evalue": "GDALError (CE_Failure, code 10):\n\tPointer 'hDS' is NULL in 'GDALGetRasterCount'.\n\n",
          "traceback": [
            "GDALError (CE_Failure, code 10):\n\tPointer 'hDS' is NULL in 'GDALGetRasterCount'.\n\n",
            "",
            "Stacktrace:",
            "  [1] \u001b[0m\u001b[1mmaybe_throw\u001b[22m\u001b[0m\u001b[1m(\u001b[22m\u001b[0m\u001b[1m)\u001b[22m",
            "\u001b[90m    @\u001b[39m \u001b[35mGDAL\u001b[39m \u001b[90m~/.julia/packages/GDAL/LSxoz/src/\u001b[39m\u001b[90m\u001b[4merror.jl:42\u001b[24m\u001b[39m",
            "  [2] \u001b[0m\u001b[1maftercare\u001b[22m",
            "\u001b[90m    @\u001b[39m \u001b[90m~/.julia/packages/GDAL/LSxoz/src/\u001b[39m\u001b[90m\u001b[4merror.jl:59\u001b[24m\u001b[39m\u001b[90m [inlined]\u001b[39m",
            "  [3] \u001b[0m\u001b[1mgdalgetrastercount\u001b[22m",
            "\u001b[90m    @\u001b[39m \u001b[90m~/.julia/packages/GDAL/LSxoz/src/\u001b[39m\u001b[90m\u001b[4mlibgdal.jl:8160\u001b[24m\u001b[39m\u001b[90m [inlined]\u001b[39m",
            "  [4] \u001b[0m\u001b[1mnraster\u001b[22m",
            "\u001b[90m    @\u001b[39m \u001b[90m~/.julia/packages/ArchGDAL/ujstt/src/\u001b[39m\u001b[90m\u001b[4mdataset.jl:662\u001b[24m\u001b[39m\u001b[90m [inlined]\u001b[39m",
            "  [5] \u001b[0m\u001b[1mpixeltype\u001b[22m\u001b[0m\u001b[1m(\u001b[22m\u001b[90mds\u001b[39m::\u001b[0mArchGDAL.Dataset\u001b[0m\u001b[1m)\u001b[22m",
            "\u001b[90m    @\u001b[39m \u001b[36mArchGDAL\u001b[39m \u001b[90m~/.julia/packages/ArchGDAL/ujstt/src/\u001b[39m\u001b[90m\u001b[4mdataset.jl:1029\u001b[24m\u001b[39m",
            "  [6] \u001b[0m\u001b[1mArchGDAL.RasterDataset\u001b[22m\u001b[0m\u001b[1m(\u001b[22m\u001b[90mds\u001b[39m::\u001b[0mArchGDAL.Dataset\u001b[0m\u001b[1m)\u001b[22m",
            "\u001b[90m    @\u001b[39m \u001b[36mArchGDAL\u001b[39m \u001b[90m~/.julia/packages/ArchGDAL/ujstt/src/raster/\u001b[39m\u001b[90m\u001b[4marray.jl:32\u001b[24m\u001b[39m",
            "  [7] \u001b[0m\u001b[1munsafe_readraster\u001b[22m",
            "\u001b[90m    @\u001b[39m \u001b[90m~/.julia/packages/ArchGDAL/ujstt/src/raster/\u001b[39m\u001b[90m\u001b[4marray.jl:127\u001b[24m\u001b[39m\u001b[90m [inlined]\u001b[39m",
            "  [8] \u001b[0m\u001b[1mreadraster\u001b[22m\u001b[0m\u001b[1m(\u001b[22m\u001b[90mf\u001b[39m::\u001b[0mComposedFunction\u001b[90m{typeof(Rasters.cleanreturn), Rasters.var\"#50#51\"{Rasters.GDALsource, @Kwargs{lazy::Bool}, String}}\u001b[39m, \u001b[90margs\u001b[39m::\u001b[0mString; \u001b[90mkwargs\u001b[39m::\u001b[0m@Kwargs\u001b[90m{}\u001b[39m\u001b[0m\u001b[1m)\u001b[22m",
            "\u001b[90m    @\u001b[39m \u001b[36mArchGDAL\u001b[39m \u001b[90m~/.julia/packages/ArchGDAL/ujstt/src/\u001b[39m\u001b[90m\u001b[4mcontext.jl:266\u001b[24m\u001b[39m",
            "  [9] \u001b[0m\u001b[1mreadraster\u001b[22m\u001b[0m\u001b[1m(\u001b[22m\u001b[90mf\u001b[39m::\u001b[0mFunction, \u001b[90margs\u001b[39m::\u001b[0mString\u001b[0m\u001b[1m)\u001b[22m",
            "\u001b[90m    @\u001b[39m \u001b[36mArchGDAL\u001b[39m \u001b[90m~/.julia/packages/ArchGDAL/ujstt/src/\u001b[39m\u001b[90m\u001b[4mcontext.jl:265\u001b[24m\u001b[39m",
            " [10] \u001b[0m\u001b[1m_open\u001b[22m\u001b[0m\u001b[1m(\u001b[22m\u001b[90mf\u001b[39m::\u001b[0mFunction, ::\u001b[0mRasters.GDALsource, \u001b[90mfilename\u001b[39m::\u001b[0mString; \u001b[90mwrite\u001b[39m::\u001b[0mBool, \u001b[90mkw\u001b[39m::\u001b[0m@Kwargs\u001b[90m{}\u001b[39m\u001b[0m\u001b[1m)\u001b[22m",
            "\u001b[90m    @\u001b[39m \u001b[32mRastersArchGDALExt\u001b[39m \u001b[90m~/.julia/packages/Rasters/0kAkQ/ext/RastersArchGDALExt/\u001b[39m\u001b[90m\u001b[4mgdal_source.jl:114\u001b[24m\u001b[39m",
            " [11] \u001b[0m\u001b[1m_open\u001b[22m",
            "\u001b[90m    @\u001b[39m \u001b[90m~/.julia/packages/Rasters/0kAkQ/ext/RastersArchGDALExt/\u001b[39m\u001b[90m\u001b[4mgdal_source.jl:90\u001b[24m\u001b[39m\u001b[90m [inlined]\u001b[39m",
            " [12] \u001b[0m\u001b[1m#_open#14\u001b[22m",
            "\u001b[90m    @\u001b[39m \u001b[90m~/.julia/packages/Rasters/0kAkQ/src/sources/\u001b[39m\u001b[90m\u001b[4msources.jl:83\u001b[24m\u001b[39m\u001b[90m [inlined]\u001b[39m",
            " [13] \u001b[0m\u001b[1mRaster\u001b[22m\u001b[0m\u001b[1m(\u001b[22m\u001b[90mfilename\u001b[39m::\u001b[0mString; \u001b[90msource\u001b[39m::\u001b[0mRasters.NoKW, \u001b[90mkw\u001b[39m::\u001b[0m@Kwargs\u001b[90m{lazy::Bool}\u001b[39m\u001b[0m\u001b[1m)\u001b[22m",
            "\u001b[90m    @\u001b[39m \u001b[33mRasters\u001b[39m \u001b[90m~/.julia/packages/Rasters/0kAkQ/src/\u001b[39m\u001b[90m\u001b[4marray.jl:304\u001b[24m\u001b[39m",
            " [14] \u001b[0m\u001b[1mRaster\u001b[22m",
            "\u001b[90m    @\u001b[39m \u001b[90m~/.julia/packages/Rasters/0kAkQ/src/\u001b[39m\u001b[90m\u001b[4marray.jl:299\u001b[24m\u001b[39m\u001b[90m [inlined]\u001b[39m",
            " [15] \u001b[0m\u001b[1m(::var\"#14#20\"{GeoJSON.Polygon{2, Float32}})\u001b[22m\u001b[0m\u001b[1m(\u001b[22m\u001b[90mf\u001b[39m::\u001b[0mString\u001b[0m\u001b[1m)\u001b[22m",
            "\u001b[90m    @\u001b[39m \u001b[35mMain\u001b[39m \u001b[90m./\u001b[39m\u001b[90m\u001b[4mnone:0\u001b[24m\u001b[39m",
            " [16] \u001b[0m\u001b[1miterate\u001b[22m",
            "\u001b[90m    @\u001b[39m \u001b[90m./\u001b[39m\u001b[90m\u001b[4mgenerator.jl:48\u001b[24m\u001b[39m\u001b[90m [inlined]\u001b[39m",
            " [17] \u001b[0m\u001b[1mcollect\u001b[22m\u001b[0m\u001b[1m(\u001b[22m\u001b[90mitr\u001b[39m::\u001b[0mBase.Generator\u001b[90m{Vector{String}, var\"#14#20\"{GeoJSON.Polygon{2, Float32}}}\u001b[39m\u001b[0m\u001b[1m)\u001b[22m",
            "\u001b[90m    @\u001b[39m \u001b[90mBase\u001b[39m \u001b[90m./\u001b[39m\u001b[90m\u001b[4marray.jl:791\u001b[24m\u001b[39m",
            " [18] \u001b[0m\u001b[1mread_region_as_datacubes\u001b[22m\u001b[0m\u001b[1m(\u001b[22m\u001b[90mregion\u001b[39m::\u001b[0mGeoJSON.Polygon\u001b[90m{2, Float32}\u001b[39m; \u001b[90mstart_date\u001b[39m::\u001b[0mDate, \u001b[90mend_date\u001b[39m::\u001b[0mDate, \u001b[90mradiance_path\u001b[39m::\u001b[0mString, \u001b[90mcf_path\u001b[39m::\u001b[0mString\u001b[0m\u001b[1m)\u001b[22m",
            "\u001b[90m    @\u001b[39m \u001b[35mMain\u001b[39m \u001b[90m./\u001b[39m\u001b[90m\u001b[4mIn[16]:42\u001b[24m\u001b[39m",
            " [19] top-level scope",
            "\u001b[90m    @\u001b[39m \u001b[90m\u001b[4mIn[24]:1\u001b[24m\u001b[39m"
          ]
        }
      ]
    },
    {
      "cell_type": "code",
      "source": [
        "all_states_ukraine = DataFrame()\n",
        "\n",
        "for i in 1:nrow(ukraine_state)\n",
        "    state_row = ukraine_state[i, :]\n",
        "    state_name = state_row.NAME_1\n",
        "    println(\"--- Processing state $i/$(nrow(ukraine_state)): $state_name ---\")\n",
        "\n",
        "    try\n",
        "        state_df = process_state(state_row)\n",
        "        if !isempty(state_df)\n",
        "            append!(all_states_ukraine, state_df; cols=:union)\n",
        "        end\n",
        "    catch e\n",
        "        println(\"ERROR: Failed to process state '$state_name'. Skipping. Error: $e\")\n",
        "    end\n",
        "    GC.gc()\n",
        "end\n",
        "\n",
        "println(\"--- Processing Complete ---\")\n",
        "\n",
        "# Final aggregation\n",
        "if !isempty(all_states_ukraine)\n",
        "    println(\"Aggregating results...\")\n",
        "    grouped = groupby(all_states_ukraine, :dates)\n",
        "    aggregate_df = DataFrames.combine(grouped, :aggregate_radiance => sum => :AggregateRadiance)\n",
        "    sort!(aggregate_df, :dates)\n",
        "\n",
        "    # only write once if you want\n",
        "    # CSV.write(AGGREGATE_FILE, aggregate_df)\n",
        "    println(\"Aggregation complete, DataFrame in memory.\")\n",
        "else\n",
        "    println(\"No data processed, skipping aggregation.\")\n",
        "end\n",
        "\n",
        "println(\"Script finished.\")\n"
      ],
      "metadata": {
        "colab": {
          "base_uri": "https://localhost:8080/"
        },
        "id": "aFKQFl8vNotH",
        "outputId": "4758790d-73dd-4442-c63d-8068c929c11f"
      },
      "execution_count": 21,
      "outputs": [
        {
          "output_type": "stream",
          "name": "stdout",
          "text": [
            "--- Processing state 1/28: ? ---\n",
            "state_name = \"?\"\n",
            "state_geometry = 2D Polygonwith 1 sub-geometries\n",
            "ERROR: Failed to process state '?'. Skipping. Error: GDAL.GDALError(GDAL.CE_Failure, 10, \"Pointer 'hDS' is NULL in 'GDALGetRasterCount'.\\n\")\n",
            "--- Processing state 2/28: Cherkasy ---\n",
            "state_name = \"Cherkasy\"\n",
            "state_geometry = 2D Polygonwith 1 sub-geometries\n",
            "ERROR: Failed to process state 'Cherkasy'. Skipping. Error: GDAL.GDALError(GDAL.CE_Failure, 10, \"Pointer 'hDS' is NULL in 'GDALGetRasterCount'.\\n\")\n",
            "--- Processing state 3/28: Chernihiv ---\n",
            "state_name = \"Chernihiv\"\n",
            "state_geometry = 2D Polygonwith 1 sub-geometries\n",
            "ERROR: Failed to process state 'Chernihiv'. Skipping. Error: GDAL.GDALError(GDAL.CE_Failure, 10, \"Pointer 'hDS' is NULL in 'GDALGetRasterCount'.\\n\")\n",
            "--- Processing state 4/28: Chernivtsi ---\n",
            "state_name = \"Chernivtsi\"\n",
            "state_geometry = 2D Polygonwith 1 sub-geometries\n",
            "ERROR: Failed to process state 'Chernivtsi'. Skipping. Error: GDAL.GDALError(GDAL.CE_Failure, 10, \"Pointer 'hDS' is NULL in 'GDALGetRasterCount'.\\n\")\n",
            "--- Processing state 5/28: Crimea ---\n",
            "state_name = \"Crimea\"\n",
            "state_geometry = 2D MultiPolygonwith 9 sub-geometries\n",
            "ERROR: Failed to process state 'Crimea'. Skipping. Error: GDAL.GDALError(GDAL.CE_Failure, 10, \"Pointer 'hDS' is NULL in 'GDALGetRasterCount'.\\n\")\n",
            "--- Processing state 6/28: Dnipropetrovs'k ---\n",
            "state_name = \"Dnipropetrovs'k\"\n",
            "state_geometry = 2D Polygonwith 1 sub-geometries\n",
            "ERROR: Failed to process state 'Dnipropetrovs'k'. Skipping. Error: GDAL.GDALError(GDAL.CE_Failure, 10, \"Pointer 'hDS' is NULL in 'GDALGetRasterCount'.\\n\")\n",
            "--- Processing state 7/28: Donets'k ---\n",
            "state_name = \"Donets'k\"\n",
            "state_geometry = 2D MultiPolygonwith 2 sub-geometries\n",
            "ERROR: Failed to process state 'Donets'k'. Skipping. Error: GDAL.GDALError(GDAL.CE_Failure, 10, \"Pointer 'hDS' is NULL in 'GDALGetRasterCount'.\\n\")\n",
            "--- Processing state 8/28: Ivano-Frankivs'k ---\n",
            "state_name = \"Ivano-Frankivs'k\"\n",
            "state_geometry = 2D Polygonwith 1 sub-geometries\n",
            "ERROR: Failed to process state 'Ivano-Frankivs'k'. Skipping. Error: GDAL.GDALError(GDAL.CE_Failure, 10, \"Pointer 'hDS' is NULL in 'GDALGetRasterCount'.\\n\")\n",
            "--- Processing state 9/28: Kharkiv ---\n",
            "state_name = \"Kharkiv\"\n",
            "state_geometry = 2D Polygonwith 1 sub-geometries\n",
            "ERROR: Failed to process state 'Kharkiv'. Skipping. Error: GDAL.GDALError(GDAL.CE_Failure, 10, \"Pointer 'hDS' is NULL in 'GDALGetRasterCount'.\\n\")\n",
            "--- Processing state 10/28: Kherson ---\n",
            "state_name = \"Kherson\"\n",
            "state_geometry = 2D MultiPolygonwith 38 sub-geometries\n",
            "ERROR: Failed to process state 'Kherson'. Skipping. Error: GDAL.GDALError(GDAL.CE_Failure, 10, \"Pointer 'hDS' is NULL in 'GDALGetRasterCount'.\\n\")\n",
            "--- Processing state 11/28: Khmel'nyts'kyy ---\n",
            "state_name = \"Khmel'nyts'kyy\"\n",
            "state_geometry = 2D Polygonwith 1 sub-geometries\n",
            "ERROR: Failed to process state 'Khmel'nyts'kyy'. Skipping. Error: GDAL.GDALError(GDAL.CE_Failure, 10, \"Pointer 'hDS' is NULL in 'GDALGetRasterCount'.\\n\")\n",
            "--- Processing state 12/28: Kiev ---\n",
            "state_name = \"Kiev\"\n",
            "state_geometry = 2D Polygonwith 2 sub-geometries\n",
            "ERROR: Failed to process state 'Kiev'. Skipping. Error: GDAL.GDALError(GDAL.CE_Failure, 10, \"Pointer 'hDS' is NULL in 'GDALGetRasterCount'.\\n\")\n",
            "--- Processing state 13/28: Kiev City ---\n",
            "state_name = \"Kiev City\"\n",
            "state_geometry = 2D Polygonwith 1 sub-geometries\n",
            "ERROR: Failed to process state 'Kiev City'. Skipping. Error: GDAL.GDALError(GDAL.CE_Failure, 10, \"Pointer 'hDS' is NULL in 'GDALGetRasterCount'.\\n\")\n",
            "--- Processing state 14/28: Kirovohrad ---\n",
            "state_name = \"Kirovohrad\"\n",
            "state_geometry = 2D Polygonwith 1 sub-geometries\n",
            "ERROR: Failed to process state 'Kirovohrad'. Skipping. Error: GDAL.GDALError(GDAL.CE_Failure, 10, \"Pointer 'hDS' is NULL in 'GDALGetRasterCount'.\\n\")\n",
            "--- Processing state 15/28: L'viv ---\n",
            "state_name = \"L'viv\"\n",
            "state_geometry = 2D MultiPolygonwith 2 sub-geometries\n",
            "ERROR: Failed to process state 'L'viv'. Skipping. Error: GDAL.GDALError(GDAL.CE_Failure, 10, \"Pointer 'hDS' is NULL in 'GDALGetRasterCount'.\\n\")\n",
            "--- Processing state 16/28: Luhans'k ---\n",
            "state_name = \"Luhans'k\"\n",
            "state_geometry = 2D Polygonwith 1 sub-geometries\n",
            "ERROR: Failed to process state 'Luhans'k'. Skipping. Error: GDAL.GDALError(GDAL.CE_Failure, 10, \"Pointer 'hDS' is NULL in 'GDALGetRasterCount'.\\n\")\n",
            "--- Processing state 17/28: Mykolayiv ---\n",
            "state_name = \"Mykolayiv\"\n",
            "state_geometry = 2D MultiPolygonwith 3 sub-geometries\n",
            "ERROR: Failed to process state 'Mykolayiv'. Skipping. Error: GDAL.GDALError(GDAL.CE_Failure, 10, \"Pointer 'hDS' is NULL in 'GDALGetRasterCount'.\\n\")\n",
            "--- Processing state 18/28: Odessa ---\n",
            "state_name = \"Odessa\"\n",
            "state_geometry = 2D MultiPolygonwith 9 sub-geometries\n",
            "ERROR: Failed to process state 'Odessa'. Skipping. Error: GDAL.GDALError(GDAL.CE_Failure, 10, \"Pointer 'hDS' is NULL in 'GDALGetRasterCount'.\\n\")\n",
            "--- Processing state 19/28: Poltava ---\n",
            "state_name = \"Poltava\"\n",
            "state_geometry = 2D Polygonwith 1 sub-geometries\n",
            "ERROR: Failed to process state 'Poltava'. Skipping. Error: GDAL.GDALError(GDAL.CE_Failure, 10, \"Pointer 'hDS' is NULL in 'GDALGetRasterCount'.\\n\")\n",
            "--- Processing state 20/28: Rivne ---\n",
            "state_name = \"Rivne\"\n",
            "state_geometry = 2D Polygonwith 1 sub-geometries\n",
            "ERROR: Failed to process state 'Rivne'. Skipping. Error: GDAL.GDALError(GDAL.CE_Failure, 10, \"Pointer 'hDS' is NULL in 'GDALGetRasterCount'.\\n\")\n",
            "--- Processing state 21/28: Sevastopol' ---\n",
            "state_name = \"Sevastopol'\"\n",
            "state_geometry = 2D Polygonwith 1 sub-geometries\n",
            "ERROR: Failed to process state 'Sevastopol''. Skipping. Error: GDAL.GDALError(GDAL.CE_Failure, 10, \"Pointer 'hDS' is NULL in 'GDALGetRasterCount'.\\n\")\n",
            "--- Processing state 22/28: Sumy ---\n",
            "state_name = \"Sumy\"\n",
            "state_geometry = 2D Polygonwith 1 sub-geometries\n",
            "ERROR: Failed to process state 'Sumy'. Skipping. Error: GDAL.GDALError(GDAL.CE_Failure, 10, \"Pointer 'hDS' is NULL in 'GDALGetRasterCount'.\\n\")\n",
            "--- Processing state 23/28: Ternopil' ---\n",
            "state_name = \"Ternopil'\"\n",
            "state_geometry = 2D Polygonwith 1 sub-geometries\n",
            "ERROR: Failed to process state 'Ternopil''. Skipping. Error: GDAL.GDALError(GDAL.CE_Failure, 10, \"Pointer 'hDS' is NULL in 'GDALGetRasterCount'.\\n\")\n",
            "--- Processing state 24/28: Vinnytsya ---\n",
            "state_name = \"Vinnytsya\"\n",
            "state_geometry = 2D Polygonwith 1 sub-geometries\n",
            "ERROR: Failed to process state 'Vinnytsya'. Skipping. Error: GDAL.GDALError(GDAL.CE_Failure, 10, \"Pointer 'hDS' is NULL in 'GDALGetRasterCount'.\\n\")\n",
            "--- Processing state 25/28: Volyn ---\n",
            "state_name = \"Volyn\"\n",
            "state_geometry = 2D Polygonwith 2 sub-geometries\n",
            "ERROR: Failed to process state 'Volyn'. Skipping. Error: GDAL.GDALError(GDAL.CE_Failure, 10, \"Pointer 'hDS' is NULL in 'GDALGetRasterCount'.\\n\")\n",
            "--- Processing state 26/28: Zakarpattia ---\n",
            "state_name = \"Zakarpattia\"\n",
            "state_geometry = 2D Polygonwith 1 sub-geometries\n",
            "ERROR: Failed to process state 'Zakarpattia'. Skipping. Error: GDAL.GDALError(GDAL.CE_Failure, 10, \"Pointer 'hDS' is NULL in 'GDALGetRasterCount'.\\n\")\n",
            "--- Processing state 27/28: Zaporizhia ---\n",
            "state_name = \"Zaporizhia\"\n",
            "state_geometry = 2D MultiPolygonwith 9 sub-geometries\n",
            "ERROR: Failed to process state 'Zaporizhia'. Skipping. Error: GDAL.GDALError(GDAL.CE_Failure, 10, \"Pointer 'hDS' is NULL in 'GDALGetRasterCount'.\\n\")\n",
            "--- Processing state 28/28: Zhytomyr ---\n",
            "state_name = \"Zhytomyr\"\n",
            "state_geometry = 2D Polygonwith 1 sub-geometries\n",
            "ERROR: Failed to process state 'Zhytomyr'. Skipping. Error: GDAL.GDALError(GDAL.CE_Failure, 10, \"Pointer 'hDS' is NULL in 'GDALGetRasterCount'.\\n\")\n",
            "--- Processing Complete ---\n",
            "No data processed, skipping aggregation.\n",
            "Script finished.\n"
          ]
        }
      ]
    },
    {
      "cell_type": "code",
      "source": [
        "all_states_ukraine"
      ],
      "metadata": {
        "colab": {
          "base_uri": "https://localhost:8080/",
          "height": 52
        },
        "id": "-sDiOP1dNotH",
        "outputId": "2672829f-18c4-4d47-8bc8-71fd09472f8c"
      },
      "execution_count": 22,
      "outputs": [
        {
          "output_type": "execute_result",
          "data": {
            "text/plain": [
              "\u001b[1m0×0 DataFrame"
            ],
            "text/html": [
              "<div><div style = \"float: left;\"><span>0×0 DataFrame</span></div><div style = \"clear: both;\"></div></div><div class = \"data-frame\" style = \"overflow-x: scroll;\"><table class = \"data-frame\" style = \"margin-bottom: 6px;\"></table></div>"
            ],
            "text/latex": "\\begin{tabular}{r|}\n\t& \\\\\n\t\\hline\n\t& \\\\\n\t\\hline\n\\end{tabular}\n"
          },
          "metadata": {},
          "execution_count": 22
        }
      ]
    }
  ]
}